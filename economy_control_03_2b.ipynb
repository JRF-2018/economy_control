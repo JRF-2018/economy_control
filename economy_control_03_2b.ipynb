{
  "nbformat": 4,
  "nbformat_minor": 0,
  "metadata": {
    "colab": {
      "name": "economy_control_03_2b.ipynb",
      "provenance": [],
      "collapsed_sections": []
    },
    "kernelspec": {
      "name": "python3",
      "display_name": "Python 3"
    },
    "language_info": {
      "name": "python"
    }
  },
  "cells": [
    {
      "cell_type": "markdown",
      "source": [
        "# 村田安雄『動的経済システムの最適制御』第3章2節bの検算\n",
        "\n",
        "(Version: 0.0.2)\n",
        "\n",
        "「第3章 離散時間ダイナミック・プログラミングの方法と消費計画への応用」の「2. 確実性下の D.P. の最適化原理」の「［b］m 制御変数と n 状態変数の D.P.」について、行列に関する計算の「検算」を行ってみる。\n",
        "\n",
        "これは sympy_matrix_tools のテストでもある。\n",
        "\n",
        "本当はこういった証明は専門の theorem prover を使ってやるべきである。しかし、無料で誰でも使える Google Colab & Python で示せればそれはそれで価値があるのではないかと考えた。"
      ],
      "metadata": {
        "id": "-s-r8b183fe8"
      }
    },
    {
      "cell_type": "code",
      "source": [
        "from time import gmtime, strftime\n",
        "print(\"Time-stamp: <%s>\" % strftime(\"%Y-%m-%dT%H:%M:%SZ\", gmtime()))"
      ],
      "metadata": {
        "colab": {
          "base_uri": "https://localhost:8080/"
        },
        "id": "jiU2987p_niD",
        "outputId": "071a1de4-ffd8-4a01-b9a5-8b5de22b049c"
      },
      "execution_count": 1,
      "outputs": [
        {
          "output_type": "stream",
          "name": "stdout",
          "text": [
            "Time-stamp: <2022-05-16T10:38:13Z>\n"
          ]
        }
      ]
    },
    {
      "cell_type": "code",
      "source": [
        "!pip install git+https://github.com/JRF-2018/sympy_matrix_tools"
      ],
      "metadata": {
        "colab": {
          "base_uri": "https://localhost:8080/"
        },
        "id": "XEwKNWzrgtk4",
        "outputId": "5c5cd8e7-a9ed-4e62-aacf-c8956af2f9dc"
      },
      "execution_count": 2,
      "outputs": [
        {
          "output_type": "stream",
          "name": "stdout",
          "text": [
            "Collecting git+https://github.com/JRF-2018/sympy_matrix_tools\n",
            "  Cloning https://github.com/JRF-2018/sympy_matrix_tools to /tmp/pip-req-build-fkqemajz\n",
            "  Running command git clone -q https://github.com/JRF-2018/sympy_matrix_tools /tmp/pip-req-build-fkqemajz\n"
          ]
        }
      ]
    },
    {
      "cell_type": "code",
      "source": [
        "import sympy\n",
        "sympy.__version__"
      ],
      "metadata": {
        "colab": {
          "base_uri": "https://localhost:8080/",
          "height": 35
        },
        "id": "bjEwAq1cbaJw",
        "outputId": "79286c00-9966-472e-dba7-05d39365d484"
      },
      "execution_count": 3,
      "outputs": [
        {
          "output_type": "execute_result",
          "data": {
            "text/plain": [
              "'1.7.1'"
            ],
            "application/vnd.google.colaboratory.intrinsic+json": {
              "type": "string"
            }
          },
          "metadata": {},
          "execution_count": 3
        }
      ]
    },
    {
      "cell_type": "code",
      "source": [
        "import sympy_matrix_tools\n",
        "sympy_matrix_tools.__version__"
      ],
      "metadata": {
        "colab": {
          "base_uri": "https://localhost:8080/",
          "height": 35
        },
        "id": "LEmmj-7abNAY",
        "outputId": "791a58ac-04b6-419b-de9b-cebaa98a5b1f"
      },
      "execution_count": 4,
      "outputs": [
        {
          "output_type": "execute_result",
          "data": {
            "text/plain": [
              "'0.1.8'"
            ],
            "application/vnd.google.colaboratory.intrinsic+json": {
              "type": "string"
            }
          },
          "metadata": {},
          "execution_count": 4
        }
      ]
    },
    {
      "cell_type": "code",
      "source": [
        "from sympy import *\n",
        "init_printing()\n",
        "from sympy_matrix_tools import *"
      ],
      "metadata": {
        "id": "BQjUJcHwgxuH"
      },
      "execution_count": 5,
      "outputs": []
    },
    {
      "cell_type": "code",
      "source": [
        "t = Symbol(\"t\", integer=True, positive=True)\n",
        "n = Symbol(\"n\", integer=True, positive=True)\n",
        "m = Symbol(\"m\", integer=True, positive=True)\n",
        "y = MatrixFunction(\"y\", n, 1)\n",
        "x = MatrixFunction(\"x\", m, 1)\n",
        "z = MatrixFunction(\"z\", n, 1)\n",
        "A = MatrixSymbol(\"A\", n, n)\n",
        "B = MatrixSymbol(\"B\", n, m)\n",
        "\n",
        "EQ11 = Eq(y(t), A * y(t -1) + B * x(t) + z(t))"
      ],
      "metadata": {
        "id": "Cc90E2exg3yv"
      },
      "execution_count": 6,
      "outputs": []
    },
    {
      "cell_type": "markdown",
      "source": [
        "なお P, Q はのちに定義する P, Q の MatrixFunction と名前がダブるため P_T, Q_T と名付けておく。 "
      ],
      "metadata": {
        "id": "S2Iy2mr1srvw"
      }
    },
    {
      "cell_type": "code",
      "source": [
        "T = Symbol(\"T\", integer=True, positive=True)\n",
        "tau = Symbol(\"tau\", integer=True, positive=True)\n",
        "beta = Symbol(\"beta\", real=True)\n",
        "k = Symbol(\"k\", integer=True, positive=True)\n",
        "\n",
        "P_T = MatrixSymbol(\"P_T\", n, 1)\n",
        "Q_T = MatrixSymbol(\"Q_T\", n, n)\n",
        "\n",
        "EQQTT = Eq(Q_T.T, Q_T)\n",
        "\n",
        "J = MatrixFunction(\"J\", 1, 1)\n",
        "w = MatrixFunction(\"w\", 1, 1)\n",
        "\n",
        "EQ12 = Eq(J(T, 1), Sum((beta ** (t - 1)) * w(y(t)), (t, 1, T)))\n",
        "EQ13 = Eq(w(y(t)), P_T.T * y(t) + Rational(1/2) * y(t).T * Q_T * y(t))\n",
        "EQ14 = Eq(y(t), A**(t - (tau - 1)) * y(tau - 1)\n",
        "          + MatSum(A ** (t - k) * (B * x(k) ++ z(k)), (k, tau, t)))"
      ],
      "metadata": {
        "id": "BQzBUxAQiys3"
      },
      "execution_count": 7,
      "outputs": []
    },
    {
      "cell_type": "markdown",
      "source": [
        "ここで x(tau) の系列に関して式(15)や式(16)を定義するのは面倒なので、直接、式(17)を天下り的に次のように定義したい。しかし、SymPy の Min はその引数に集合をとることができない。"
      ],
      "metadata": {
        "id": "KLy71WbEm3zQ"
      }
    },
    {
      "cell_type": "code",
      "source": [
        "# v = MatrixFunction(\"v\", 1, 1)\n",
        "# x_tau = Symbol(\"x_tau\", real=True)\n",
        "\n",
        "# EQ17 = Eq(v(tau, y(tau - 1)),\n",
        "#           Min(ImageSet(Lambda(x_tau, Subs(w(y(tau)) + beta * v(tau + 1, y(tau)),\n",
        "#                                    x(tau), x_tau)), Interval(0, oo))))"
      ],
      "metadata": {
        "id": "WVxocKz3kyvx"
      },
      "execution_count": 8,
      "outputs": []
    },
    {
      "cell_type": "markdown",
      "source": [
        "そこで定義できたとしてもやるべきことだった微分のための式のみ定義しておく。"
      ],
      "metadata": {
        "id": "m-b3I3ruqiDG"
      }
    },
    {
      "cell_type": "code",
      "source": [
        "v = MatrixFunction(\"v\", 1, 1)\n",
        "\n",
        "EQ17_lhs = v(tau, y(tau - 1))\n",
        "EQ17_rhs = w(y(tau)) + beta * v(tau + 1, y(tau))"
      ],
      "metadata": {
        "id": "_NOIv9ufn_XG"
      },
      "execution_count": 9,
      "outputs": []
    },
    {
      "cell_type": "markdown",
      "source": [
        "さてここから本では明示してないが、帰納法で式を示すことになる。"
      ],
      "metadata": {
        "id": "UZvF3EHbsCa-"
      }
    },
    {
      "cell_type": "code",
      "source": [
        "S = MatrixFunction(\"S\", n, n)\n",
        "P = MatrixFunction(\"P\", n, 1)\n",
        "Q = MatrixFunction(\"Q\", n, n)\n",
        "h = MatrixFunction(\"h\", 1, 1)\n",
        "g = MatrixFunction(\"g\", 1, 1)\n",
        "\n",
        "EQ21D = Eq(S(t), Identity(n) - B * ((B.T * Q(t) * B) ** - 1) * B.T * Q(t))\n",
        "EQ24D = Eq(Q(t), Q_T + beta * A.T * Q(t + 1) * S(t + 1) * A)\n",
        "EQ23D = Eq(P(t), P_T + beta * A.T * S(t + 1).T * P(t + 1)\n",
        "           + beta * A.T * Q(t + 1) * S(t + 1) * z(t + 1))\n",
        "EQ22D = Eq(h(t), P(t).T * B * ((B.T * Q(t) * B) ** -1) * B.T * P(t))\n",
        "EQ25D = Eq(g(t), beta * (P(t + 1).T * S(t + 1) * z(t + 1)\n",
        "                         + (Rational(1, 2) * z(t + 1).T * Q(t + 1) * S(t + 1)\n",
        "                            * z(t + 1))\n",
        "                         - Rational(1, 2) * h(t + 1) + g(t + 1)))\n",
        "EQGT = Eq(g(T), ZeroMatrix(1, 1))\n",
        "\n",
        "EQ19D = Eq(x(t), - ((B.T * Q(t) * B) ** -1) * B.T *\n",
        "           (Q(t) * (A * y(t - 1) + z(t)) + P(t)))\n",
        "\n",
        "EQ20D = Eq(v(t, y(t - 1)),\n",
        "           (P(t).T + Rational(1, 2) * (A * y(t -1) + z(t)).T * Q(t))\n",
        "           * S(t) * (A * y(t -1) + z(t))\n",
        "           - Rational(1, 2) * h(t) + g(t))"
      ],
      "metadata": {
        "id": "RtPtXDnYrB2n"
      },
      "execution_count": 10,
      "outputs": []
    },
    {
      "cell_type": "markdown",
      "source": [
        "示したいのは t := t において EQ21D～EQ25D のときに EQ19D EQ20D が成り立っていたとき、t := t-1 において、EQ21D～EQ25D と定義したとき EQ19D EQ20D が成り立つことである。また帰納法の初期条件として t := T-1 において EQ21D～EQ25D と定義したとき EQ19D EQ20D が成り立つこともまず示さねばならない。\n",
        "\n",
        "まずは本にしたがい、t := T-1 の場合を示す。\n",
        "\n",
        "まず次を x(t) で微分したい。"
      ],
      "metadata": {
        "id": "AiNvQS3Fvh7u"
      }
    },
    {
      "cell_type": "code",
      "source": [
        "EQ18a_rhs = P_T.T * y(T) + Rational(1, 2) * y(T).T * Q_T * y(T)"
      ],
      "metadata": {
        "id": "3x4SV3h-yNjX"
      },
      "execution_count": 11,
      "outputs": []
    },
    {
      "cell_type": "code",
      "source": [
        "EQ11tmp = EQ11.subs(t, T)\n",
        "EQ18tmp = EQ18a_rhs.subs(EQ11tmp.lhs, EQ11tmp.rhs)\n",
        "EQ18tmp"
      ],
      "metadata": {
        "colab": {
          "base_uri": "https://localhost:8080/",
          "height": 58
        },
        "id": "Q52c1UWFy65-",
        "outputId": "7e63d075-9726-4826-d27b-4ab06df9acda"
      },
      "execution_count": 12,
      "outputs": [
        {
          "output_type": "execute_result",
          "data": {
            "text/plain": [
              "   T                                                                T         \n",
              "P_T ⋅(A⋅y(T - 1) + B⋅x(T) + z(T)) + 1/2⋅(A⋅y(T - 1) + B⋅x(T) + z(T)) ⋅Q_T⋅(A⋅y\n",
              "\n",
              "                        \n",
              "(T - 1) + B⋅x(T) + z(T))"
            ],
            "image/png": "[encoded data removed]",
            "text/latex": "$\\displaystyle \\left(\\frac{1}{2}\\right) \\left(z{\\left(T \\right)} + A y{\\left(T - 1 \\right)} + B x{\\left(T \\right)}\\right)^{T} Q_{T} \\left(z{\\left(T \\right)} + A y{\\left(T - 1 \\right)} + B x{\\left(T \\right)}\\right) + P_{T}^{T} \\left(z{\\left(T \\right)} + A y{\\left(T - 1 \\right)} + B x{\\left(T \\right)}\\right)$"
          },
          "metadata": {},
          "execution_count": 12
        }
      ]
    },
    {
      "cell_type": "markdown",
      "source": [
        "MatrixFunction はまだ微分に対応していないのでいったんここに出てくるものを MatrixSymbol に置き換えねばならない。"
      ],
      "metadata": {
        "id": "Vjtq-IHfzcQ2"
      }
    },
    {
      "cell_type": "code",
      "source": [
        "z_T = MatrixSymbol(\"z_T\", n, 1)\n",
        "y_Tm1 = MatrixSymbol(\"y_Tm1\", n, 1)\n",
        "x_T = MatrixSymbol(\"x_T\", m, 1)\n",
        "EQ18tmp2 = EQ18tmp.subs({x(T): x_T, y(T - 1): y_Tm1, z(T): z_T})\n",
        "EQ18tmp2"
      ],
      "metadata": {
        "colab": {
          "base_uri": "https://localhost:8080/",
          "height": 58
        },
        "id": "ih51kChczLY-",
        "outputId": "dd9f48e5-bba8-432f-dfdd-3ef46d769ccb"
      },
      "execution_count": 13,
      "outputs": [
        {
          "output_type": "execute_result",
          "data": {
            "text/plain": [
              "   T                                                      T                   \n",
              "P_T ⋅(A⋅y_Tm1 + B⋅x_T + z_T) + 1/2⋅(A⋅y_Tm1 + B⋅x_T + z_T) ⋅Q_T⋅(A⋅y_Tm1 + B⋅x\n",
              "\n",
              "         \n",
              "_T + z_T)"
            ],
            "image/png": "[encoded data removed]",
            "text/latex": "$\\displaystyle \\left(\\frac{1}{2}\\right) \\left(A y_{Tm1} + B x_{T} + z_{T}\\right)^{T} Q_{T} \\left(A y_{Tm1} + B x_{T} + z_{T}\\right) + P_{T}^{T} \\left(A y_{Tm1} + B x_{T} + z_{T}\\right)$"
          },
          "metadata": {},
          "execution_count": 13
        }
      ]
    },
    {
      "cell_type": "code",
      "source": [
        "EQ18tmp3 = EQ18tmp2.diff(x_T)\\\n",
        "                   .subs(EQQTT.lhs, EQQTT.rhs)\\\n",
        "                   .subs({x_T: x(T), y_Tm1: y(T - 1), z_T: z(T)})\\\n",
        "                   .doit()\n",
        "EQ18tmp3"
      ],
      "metadata": {
        "colab": {
          "base_uri": "https://localhost:8080/",
          "height": 38
        },
        "id": "QgTR0jp60sCW",
        "outputId": "90d6d582-f03a-4202-fd3d-27b6aecd5368"
      },
      "execution_count": 14,
      "outputs": [
        {
          "output_type": "execute_result",
          "data": {
            "text/plain": [
              " T        T                                 \n",
              "B ⋅P_T + B ⋅Q_T⋅(A⋅y(T - 1) + B⋅x(T) + z(T))"
            ],
            "image/png": "[encoded data removed]",
            "text/latex": "$\\displaystyle B^{T} P_{T} + B^{T} Q_{T} \\left(z{\\left(T \\right)} + A y{\\left(T - 1 \\right)} + B x{\\left(T \\right)}\\right)$"
          },
          "metadata": {},
          "execution_count": 14
        }
      ]
    },
    {
      "cell_type": "code",
      "source": [
        "EQ18tmp4 = EQ18tmp3.expand().doit()\n",
        "EQ18tmp4"
      ],
      "metadata": {
        "colab": {
          "base_uri": "https://localhost:8080/",
          "height": 38
        },
        "id": "VZdvkpdS0wWX",
        "outputId": "936ceb02-1eb5-4444-a503-64260016dea9"
      },
      "execution_count": 15,
      "outputs": [
        {
          "output_type": "execute_result",
          "data": {
            "text/plain": [
              " T        T             T                   T           \n",
              "B ⋅P_T + B ⋅Q_T⋅z(T) + B ⋅Q_T⋅A⋅y(T - 1) + B ⋅Q_T⋅B⋅x(T)"
            ],
            "image/png": "[encoded data removed]",
            "text/latex": "$\\displaystyle B^{T} P_{T} + B^{T} Q_{T} z{\\left(T \\right)} + B^{T} Q_{T} A y{\\left(T - 1 \\right)} + B^{T} Q_{T} B x{\\left(T \\right)}$"
          },
          "metadata": {},
          "execution_count": 15
        }
      ]
    },
    {
      "cell_type": "code",
      "source": [
        "EQ18tmp5 = mat_collect(mat_divide(EQ18tmp4, B.T * Q_T * B), ((B.T * Q_T * B) ** -1) * B.T, right=True)\n",
        "EQ18tmp5"
      ],
      "metadata": {
        "colab": {
          "base_uri": "https://localhost:8080/",
          "height": 42
        },
        "id": "McOUs36F1hbO",
        "outputId": "56c74360-89be-4806-dc9d-c79856b9ea66"
      },
      "execution_count": 16,
      "outputs": [
        {
          "output_type": "execute_result",
          "data": {
            "text/plain": [
              "          -1                                            \n",
              "⎛ T      ⎞    T                                         \n",
              "⎝B ⋅Q_T⋅B⎠  ⋅B ⋅(Q_T⋅z(T) + Q_T⋅A⋅y(T - 1) + P_T) + x(T)"
            ],
            "image/png": "[encoded data removed]",
            "text/latex": "$\\displaystyle x{\\left(T \\right)} + \\left(B^{T} Q_{T} B\\right)^{-1} B^{T} \\left(P_{T} + Q_{T} z{\\left(T \\right)} + Q_{T} A y{\\left(T - 1 \\right)}\\right)$"
          },
          "metadata": {},
          "execution_count": 16
        }
      ]
    },
    {
      "cell_type": "markdown",
      "source": [
        "EQ18tmp5 == 0 と置いて、これが EQ19D と同じことを示したい。"
      ],
      "metadata": {
        "id": "-zlWWNHC-CMn"
      }
    },
    {
      "cell_type": "code",
      "source": [
        "EQ19a = EQ19D.subs(t, T).subs(Q(T), Q_T).subs(P(T), P_T)\n",
        "(EQ19a.lhs - EQ19a.rhs - EQ18tmp5).expand().doit()"
      ],
      "metadata": {
        "colab": {
          "base_uri": "https://localhost:8080/",
          "height": 37
        },
        "id": "ZAv51P462j9-",
        "outputId": "b099f16b-57d9-40d6-8f24-a7a8272ae285"
      },
      "execution_count": 17,
      "outputs": [
        {
          "output_type": "execute_result",
          "data": {
            "text/plain": [
              "𝟘"
            ],
            "image/png": "[encoded data removed]",
            "text/latex": "$\\displaystyle \\mathbb{0}$"
          },
          "metadata": {},
          "execution_count": 17
        }
      ]
    },
    {
      "cell_type": "markdown",
      "source": [
        "E19a と EQ18tmp5 は同じことであることが示せた。最適値を求めるためにこれを EQ18tmp に代入して整理していく。"
      ],
      "metadata": {
        "id": "jiCxOcHB9vNt"
      }
    },
    {
      "cell_type": "code",
      "source": [
        "EQ20tmp = EQ18tmp.subs(EQ19a.lhs, EQ19a.rhs)\n",
        "EQ20tmp"
      ],
      "metadata": {
        "colab": {
          "base_uri": "https://localhost:8080/",
          "height": 108
        },
        "id": "uxVZgILd9Rxm",
        "outputId": "fdd56646-e646-435d-9742-ad2a880e56a7"
      },
      "execution_count": 18,
      "outputs": [
        {
          "output_type": "execute_result",
          "data": {
            "text/plain": [
              "                                                                              \n",
              "     ⎛               ⎛           -1                                   ⎞       \n",
              "   T ⎜               ⎜ ⎛ T      ⎞    T                                ⎟       \n",
              "P_T ⋅⎝A⋅y(T - 1) + B⋅⎝-⎝B ⋅Q_T⋅B⎠  ⋅B ⋅(Q_T⋅(A⋅y(T - 1) + z(T)) + P_T)⎠ + z(T)\n",
              "\n",
              "                                                                              \n",
              "⎞       ⎛               ⎛           -1                                   ⎞    \n",
              "⎟       ⎜               ⎜ ⎛ T      ⎞    T                                ⎟    \n",
              "⎠ + 1/2⋅⎝A⋅y(T - 1) + B⋅⎝-⎝B ⋅Q_T⋅B⎠  ⋅B ⋅(Q_T⋅(A⋅y(T - 1) + z(T)) + P_T)⎠ + z\n",
              "\n",
              "    T                                                                         \n",
              "   ⎞      ⎛               ⎛           -1                                   ⎞  \n",
              "   ⎟      ⎜               ⎜ ⎛ T      ⎞    T                                ⎟  \n",
              "(T)⎠ ⋅Q_T⋅⎝A⋅y(T - 1) + B⋅⎝-⎝B ⋅Q_T⋅B⎠  ⋅B ⋅(Q_T⋅(A⋅y(T - 1) + z(T)) + P_T)⎠ +\n",
              "\n",
              "      \n",
              "     ⎞\n",
              "     ⎟\n",
              " z(T)⎠"
            ],
            "image/png": "[encoded data removed]",
            "text/latex": "$\\displaystyle \\left(\\frac{1}{2}\\right) \\left(z{\\left(T \\right)} + A y{\\left(T - 1 \\right)} + B \\left(- \\left(B^{T} Q_{T} B\\right)^{-1} B^{T} \\left(P_{T} + Q_{T} \\left(z{\\left(T \\right)} + A y{\\left(T - 1 \\right)}\\right)\\right)\\right)\\right)^{T} Q_{T} \\left(z{\\left(T \\right)} + A y{\\left(T - 1 \\right)} + B \\left(- \\left(B^{T} Q_{T} B\\right)^{-1} B^{T} \\left(P_{T} + Q_{T} \\left(z{\\left(T \\right)} + A y{\\left(T - 1 \\right)}\\right)\\right)\\right)\\right) + P_{T}^{T} \\left(z{\\left(T \\right)} + A y{\\left(T - 1 \\right)} + B \\left(- \\left(B^{T} Q_{T} B\\right)^{-1} B^{T} \\left(P_{T} + Q_{T} \\left(z{\\left(T \\right)} + A y{\\left(T - 1 \\right)}\\right)\\right)\\right)\\right)$"
          },
          "metadata": {},
          "execution_count": 18
        }
      ]
    },
    {
      "cell_type": "code",
      "source": [
        "EQ20tmp2 = mat_trivial_divide(EQ20tmp.expand().subs(EQQTT.lhs, EQQTT.rhs)).doit()\n",
        "EQ20tmp2"
      ],
      "metadata": {
        "colab": {
          "base_uri": "https://localhost:8080/",
          "height": 180
        },
        "id": "1BmZmVCu-Arm",
        "outputId": "73e07e3b-cf6f-40a9-a8d0-d8e0fbe97044"
      },
      "execution_count": 19,
      "outputs": [
        {
          "output_type": "execute_result",
          "data": {
            "text/plain": [
              "                                                                              \n",
              "   T           T                        T                          T  T       \n",
              "P_T ⋅z(T) + P_T ⋅A⋅y(T - 1) + 1/2⋅(z(T)) ⋅Q_T⋅z(T) + 1/2⋅(y(T - 1)) ⋅A ⋅Q_T⋅z(\n",
              "\n",
              "                                                      -1                      \n",
              "               T                        T   ⎛ T      ⎞    T                   \n",
              "T) + 1/2⋅(z(T)) ⋅Q_T⋅A⋅y(T - 1) -1/2⋅P_T ⋅B⋅⎝B ⋅Q_T⋅B⎠  ⋅B ⋅P_T + 1/2⋅(y(T - 1\n",
              "\n",
              "                                        -1                               -1   \n",
              "  T  T                    T   ⎛ T      ⎞    T              T   ⎛ T      ⎞    T\n",
              ")) ⋅A ⋅Q_T⋅A⋅y(T - 1) -P_T ⋅B⋅⎝B ⋅Q_T⋅B⎠  ⋅B ⋅Q_T⋅z(T) -P_T ⋅B⋅⎝B ⋅Q_T⋅B⎠  ⋅B \n",
              "\n",
              "                                             -1                               \n",
              "                           T       ⎛ T      ⎞    T                         T  \n",
              "⋅Q_T⋅A⋅y(T - 1) -1/2⋅(z(T)) ⋅Q_T⋅B⋅⎝B ⋅Q_T⋅B⎠  ⋅B ⋅Q_T⋅z(T) -1/2⋅(y(T - 1)) ⋅A\n",
              "\n",
              "                  -1                                          -1              \n",
              "T       ⎛ T      ⎞    T                     T       ⎛ T      ⎞    T           \n",
              " ⋅Q_T⋅B⋅⎝B ⋅Q_T⋅B⎠  ⋅B ⋅Q_T⋅z(T) -1/2⋅(z(T)) ⋅Q_T⋅B⋅⎝B ⋅Q_T⋅B⎠  ⋅B ⋅Q_T⋅A⋅y(T \n",
              "\n",
              "                                         -1                  \n",
              "                    T  T       ⎛ T      ⎞    T               \n",
              "- 1) -1/2⋅(y(T - 1)) ⋅A ⋅Q_T⋅B⋅⎝B ⋅Q_T⋅B⎠  ⋅B ⋅Q_T⋅A⋅y(T - 1)"
            ],
            "image/png": "[encoded data removed]",
            "text/latex": "$\\displaystyle \\left(\\frac{1}{2}\\right) \\left(y{\\left(T - 1 \\right)}\\right)^{T} A^{T} Q_{T} z{\\left(T \\right)} + \\left(\\frac{1}{2}\\right) \\left(y{\\left(T - 1 \\right)}\\right)^{T} A^{T} Q_{T} A y{\\left(T - 1 \\right)} - \\left(\\frac{1}{2}\\right) \\left(y{\\left(T - 1 \\right)}\\right)^{T} A^{T} Q_{T} B \\left(B^{T} Q_{T} B\\right)^{-1} B^{T} Q_{T} z{\\left(T \\right)} - \\left(\\frac{1}{2}\\right) \\left(y{\\left(T - 1 \\right)}\\right)^{T} A^{T} Q_{T} B \\left(B^{T} Q_{T} B\\right)^{-1} B^{T} Q_{T} A y{\\left(T - 1 \\right)} + \\left(\\frac{1}{2}\\right) \\left(z{\\left(T \\right)}\\right)^{T} Q_{T} z{\\left(T \\right)} + \\left(\\frac{1}{2}\\right) \\left(z{\\left(T \\right)}\\right)^{T} Q_{T} A y{\\left(T - 1 \\right)} - \\left(\\frac{1}{2}\\right) \\left(z{\\left(T \\right)}\\right)^{T} Q_{T} B \\left(B^{T} Q_{T} B\\right)^{-1} B^{T} Q_{T} z{\\left(T \\right)} - \\left(\\frac{1}{2}\\right) \\left(z{\\left(T \\right)}\\right)^{T} Q_{T} B \\left(B^{T} Q_{T} B\\right)^{-1} B^{T} Q_{T} A y{\\left(T - 1 \\right)} + P_{T}^{T} z{\\left(T \\right)} + P_{T}^{T} A y{\\left(T - 1 \\right)} - \\left(\\frac{1}{2}\\right) P_{T}^{T} B \\left(B^{T} Q_{T} B\\right)^{-1} B^{T} P_{T} - P_{T}^{T} B \\left(B^{T} Q_{T} B\\right)^{-1} B^{T} Q_{T} z{\\left(T \\right)} - P_{T}^{T} B \\left(B^{T} Q_{T} B\\right)^{-1} B^{T} Q_{T} A y{\\left(T - 1 \\right)}$"
          },
          "metadata": {},
          "execution_count": 19
        }
      ]
    },
    {
      "cell_type": "markdown",
      "source": [
        "これが EQ20D と等しいことを示したい。"
      ],
      "metadata": {
        "id": "7p6nKCLz93GX"
      }
    },
    {
      "cell_type": "code",
      "source": [
        "EQ21a = EQ21D.subs(t, T).subs(Q(T), Q_T)\n",
        "EQ22a = EQ22D.subs(t, T).subs(Q(T), Q_T).subs(P(T), P_T)\n",
        "EQ20a = EQ20D.subs(t, T).subs(Q(T), Q_T).subs(P(T), P_T)\\\n",
        "                                        .subs(EQGT.lhs, EQGT.rhs).doit()\n",
        "\n",
        "EQ20tmp3 = EQ20a.rhs.subs({EQ21a.lhs: EQ21a.rhs, EQ22a.lhs: EQ22a.rhs})\\\n",
        "                    .expand().doit()\n",
        "EQ20tmp3"
      ],
      "metadata": {
        "colab": {
          "base_uri": "https://localhost:8080/",
          "height": 180
        },
        "id": "IB0fIS22VVCS",
        "outputId": "13d80802-0c7e-4cdd-b079-f806eeadd7f6"
      },
      "execution_count": 20,
      "outputs": [
        {
          "output_type": "execute_result",
          "data": {
            "text/plain": [
              "                                                                              \n",
              "   T           T                        T                          T  T       \n",
              "P_T ⋅z(T) + P_T ⋅A⋅y(T - 1) + 1/2⋅(z(T)) ⋅Q_T⋅z(T) + 1/2⋅(y(T - 1)) ⋅A ⋅Q_T⋅z(\n",
              "\n",
              "                                                      -1                      \n",
              "               T                        T   ⎛ T      ⎞    T                   \n",
              "T) + 1/2⋅(z(T)) ⋅Q_T⋅A⋅y(T - 1) -1/2⋅P_T ⋅B⋅⎝B ⋅Q_T⋅B⎠  ⋅B ⋅P_T + 1/2⋅(y(T - 1\n",
              "\n",
              "                                        -1                               -1   \n",
              "  T  T                    T   ⎛ T      ⎞    T              T   ⎛ T      ⎞    T\n",
              ")) ⋅A ⋅Q_T⋅A⋅y(T - 1) -P_T ⋅B⋅⎝B ⋅Q_T⋅B⎠  ⋅B ⋅Q_T⋅z(T) -P_T ⋅B⋅⎝B ⋅Q_T⋅B⎠  ⋅B \n",
              "\n",
              "                                             -1                               \n",
              "                           T       ⎛ T      ⎞    T                         T  \n",
              "⋅Q_T⋅A⋅y(T - 1) -1/2⋅(z(T)) ⋅Q_T⋅B⋅⎝B ⋅Q_T⋅B⎠  ⋅B ⋅Q_T⋅z(T) -1/2⋅(y(T - 1)) ⋅A\n",
              "\n",
              "                  -1                                          -1              \n",
              "T       ⎛ T      ⎞    T                     T       ⎛ T      ⎞    T           \n",
              " ⋅Q_T⋅B⋅⎝B ⋅Q_T⋅B⎠  ⋅B ⋅Q_T⋅z(T) -1/2⋅(z(T)) ⋅Q_T⋅B⋅⎝B ⋅Q_T⋅B⎠  ⋅B ⋅Q_T⋅A⋅y(T \n",
              "\n",
              "                                         -1                  \n",
              "                    T  T       ⎛ T      ⎞    T               \n",
              "- 1) -1/2⋅(y(T - 1)) ⋅A ⋅Q_T⋅B⋅⎝B ⋅Q_T⋅B⎠  ⋅B ⋅Q_T⋅A⋅y(T - 1)"
            ],
            "image/png": "[encoded data removed]",
            "text/latex": "$\\displaystyle \\left(\\frac{1}{2}\\right) \\left(y{\\left(T - 1 \\right)}\\right)^{T} A^{T} Q_{T} z{\\left(T \\right)} + \\left(\\frac{1}{2}\\right) \\left(y{\\left(T - 1 \\right)}\\right)^{T} A^{T} Q_{T} A y{\\left(T - 1 \\right)} - \\left(\\frac{1}{2}\\right) \\left(y{\\left(T - 1 \\right)}\\right)^{T} A^{T} Q_{T} B \\left(B^{T} Q_{T} B\\right)^{-1} B^{T} Q_{T} z{\\left(T \\right)} - \\left(\\frac{1}{2}\\right) \\left(y{\\left(T - 1 \\right)}\\right)^{T} A^{T} Q_{T} B \\left(B^{T} Q_{T} B\\right)^{-1} B^{T} Q_{T} A y{\\left(T - 1 \\right)} + \\left(\\frac{1}{2}\\right) \\left(z{\\left(T \\right)}\\right)^{T} Q_{T} z{\\left(T \\right)} + \\left(\\frac{1}{2}\\right) \\left(z{\\left(T \\right)}\\right)^{T} Q_{T} A y{\\left(T - 1 \\right)} - \\left(\\frac{1}{2}\\right) \\left(z{\\left(T \\right)}\\right)^{T} Q_{T} B \\left(B^{T} Q_{T} B\\right)^{-1} B^{T} Q_{T} z{\\left(T \\right)} - \\left(\\frac{1}{2}\\right) \\left(z{\\left(T \\right)}\\right)^{T} Q_{T} B \\left(B^{T} Q_{T} B\\right)^{-1} B^{T} Q_{T} A y{\\left(T - 1 \\right)} + P_{T}^{T} z{\\left(T \\right)} + P_{T}^{T} A y{\\left(T - 1 \\right)} - \\left(\\frac{1}{2}\\right) P_{T}^{T} B \\left(B^{T} Q_{T} B\\right)^{-1} B^{T} P_{T} - P_{T}^{T} B \\left(B^{T} Q_{T} B\\right)^{-1} B^{T} Q_{T} z{\\left(T \\right)} - P_{T}^{T} B \\left(B^{T} Q_{T} B\\right)^{-1} B^{T} Q_{T} A y{\\left(T - 1 \\right)}$"
          },
          "metadata": {},
          "execution_count": 20
        }
      ]
    },
    {
      "cell_type": "code",
      "source": [
        "(EQ20tmp2 - EQ20tmp3).expand().doit()"
      ],
      "metadata": {
        "colab": {
          "base_uri": "https://localhost:8080/",
          "height": 37
        },
        "id": "obekGmrjDSc3",
        "outputId": "4914e755-d605-45b5-9bb4-78fa63ff9f72"
      },
      "execution_count": 21,
      "outputs": [
        {
          "output_type": "execute_result",
          "data": {
            "text/plain": [
              "𝟘"
            ],
            "image/png": "[encoded data removed]",
            "text/latex": "$\\displaystyle \\mathbb{0}$"
          },
          "metadata": {},
          "execution_count": 21
        }
      ]
    },
    {
      "cell_type": "markdown",
      "source": [
        "これで式(20a) が正しいことが示せた。今後～tmp 系は再利用していくので混乱しないよう。\n",
        "\n",
        "次に式(18b)を示していこう。"
      ],
      "metadata": {
        "id": "bKK740TvK1YM"
      }
    },
    {
      "cell_type": "code",
      "source": [
        "EQ17_lhs_tmp = EQ17_lhs.subs(tau, T - 1)\n",
        "EQ17_rhs_tmp = EQ17_rhs.subs(tau, T - 1)\n",
        "EQ13tmp = EQ13.subs(t, T -1)\n",
        "EQ18tmp = EQ17_rhs_tmp.subs({EQ13tmp.lhs: EQ13tmp.rhs, EQ20a.lhs: EQ20a.rhs})\n",
        "EQ18tmp"
      ],
      "metadata": {
        "id": "_Ak_u9UkENpN",
        "colab": {
          "base_uri": "https://localhost:8080/",
          "height": 98
        },
        "outputId": "fd2f7cd6-2cc3-438f-92b7-35b28c1b761c"
      },
      "execution_count": 22,
      "outputs": [
        {
          "output_type": "execute_result",
          "data": {
            "text/plain": [
              "  ⎛            ⎛    ⎛          T  T         T⎞          T⎞                    \n",
              "β⋅⎝-1/2⋅h(T) + ⎝1/2⋅⎝(y(T - 1)) ⋅A  + (z(T)) ⎠⋅Q_T + P_T ⎠⋅S(T)⋅(A⋅y(T - 1) + \n",
              "\n",
              "     ⎞      T                          T             \n",
              "z(T))⎠ + P_T ⋅y(T - 1) + 1/2⋅(y(T - 1)) ⋅Q_T⋅y(T - 1)"
            ],
            "image/png": "[encoded data removed]",
            "text/latex": "$\\displaystyle \\beta \\left(\\left(\\left(\\frac{1}{2}\\right) \\left(\\left(y{\\left(T - 1 \\right)}\\right)^{T} A^{T} + \\left(z{\\left(T \\right)}\\right)^{T}\\right) Q_{T} + P_{T}^{T}\\right) S{\\left(T \\right)} \\left(z{\\left(T \\right)} + A y{\\left(T - 1 \\right)}\\right) - \\left(\\frac{1}{2}\\right) h{\\left(T \\right)}\\right) + \\left(\\left(\\frac{1}{2}\\right) \\left(y{\\left(T - 1 \\right)}\\right)^{T} Q_{T} y{\\left(T - 1 \\right)} + P_{T}^{T} y{\\left(T - 1 \\right)}\\right)$"
          },
          "metadata": {},
          "execution_count": 22
        }
      ]
    },
    {
      "cell_type": "code",
      "source": [
        "EQ13tmp"
      ],
      "metadata": {
        "colab": {
          "base_uri": "https://localhost:8080/",
          "height": 72
        },
        "id": "jv39y4EOxe1Y",
        "outputId": "5c4851c1-ace3-469f-d6e6-eaf198f6176f"
      },
      "execution_count": 23,
      "outputs": [
        {
          "output_type": "execute_result",
          "data": {
            "text/plain": [
              "                 T                          T             \n",
              "w(y(T - 1)) = P_T ⋅y(T - 1) + 1/2⋅(y(T - 1)) ⋅Q_T⋅y(T - 1)"
            ],
            "image/png": "[encoded data removed]",
            "text/latex": "$\\displaystyle w{\\left(y{\\left(T - 1 \\right)} \\right)} = \\left(\\frac{1}{2}\\right) \\left(y{\\left(T - 1 \\right)}\\right)^{T} Q_{T} y{\\left(T - 1 \\right)} + P_{T}^{T} y{\\left(T - 1 \\right)}$"
          },
          "metadata": {},
          "execution_count": 23
        }
      ]
    },
    {
      "cell_type": "code",
      "source": [
        "EQ18b_rhs = P(T - 1).T * y(T - 1) \\\n",
        "    + Rational(1, 2) * y(T - 1).T * Q(T - 1) * y(T-1) + g(T - 1)\n",
        "EQ24tmp = EQ24D.subs(t, T - 1)\n",
        "EQ23tmp = EQ23D.subs(t, T - 1)\n",
        "EQ25tmp = EQ25D.subs(t, T - 1).subs(EQGT.lhs, EQGT.rhs).doit()\n",
        "EQ18tmp2 = EQ18b_rhs.subs({EQ24tmp.lhs: EQ24tmp.rhs,\n",
        "                           EQ23tmp.lhs: EQ23tmp.rhs,\n",
        "                           EQ25tmp.lhs: EQ25tmp.rhs,\n",
        "                           Q(T): Q_T,\n",
        "                           P(T): P_T,\n",
        "                           EQQTT.lhs: EQQTT.rhs})\n",
        "EQ18tmp2"
      ],
      "metadata": {
        "colab": {
          "base_uri": "https://localhost:8080/",
          "height": 98
        },
        "id": "m15B1exuYz-L",
        "outputId": "35599c59-e48b-4418-ec3f-82d5ef8a5fbc"
      },
      "execution_count": 24,
      "outputs": [
        {
          "output_type": "execute_result",
          "data": {
            "text/plain": [
              "                                             T                                \n",
              "⎛   T       T          T                    ⎞                           T ⎛   \n",
              "⎝β⋅A ⋅(S(T)) ⋅P_T + β⋅A ⋅Q_T⋅S(T)⋅z(T) + P_T⎠ ⋅y(T - 1) + 1/2⋅(y(T - 1)) ⋅⎝β⋅A\n",
              "\n",
              "                                                                              \n",
              "T                 ⎞              ⎛               T                       T    \n",
              " ⋅Q_T⋅S(T)⋅A + Q_T⎠⋅y(T - 1) + β⋅⎝-1/2⋅h(T) + P_T ⋅S(T)⋅z(T) + 1/2⋅(z(T)) ⋅Q_T\n",
              "\n",
              "           \n",
              "          ⎞\n",
              "⋅S(T)⋅z(T)⎠"
            ],
            "image/png": "[encoded data removed]",
            "text/latex": "$\\displaystyle \\beta \\left(- \\frac{1}{2} h{\\left(T \\right)} + \\left(\\frac{1}{2}\\right) \\left(z{\\left(T \\right)}\\right)^{T} Q_{T} S{\\left(T \\right)} z{\\left(T \\right)} + P_{T}^{T} S{\\left(T \\right)} z{\\left(T \\right)}\\right) + \\left(\\beta A^{T} Q_{T} S{\\left(T \\right)} z{\\left(T \\right)} + \\beta A^{T} \\left(S{\\left(T \\right)}\\right)^{T} P_{T} + P_{T}\\right)^{T} y{\\left(T - 1 \\right)} + \\left(\\frac{1}{2}\\right) \\left(y{\\left(T - 1 \\right)}\\right)^{T} \\left(\\beta A^{T} Q_{T} S{\\left(T \\right)} A + Q_{T}\\right) y{\\left(T - 1 \\right)}$"
          },
          "metadata": {},
          "execution_count": 24
        }
      ]
    },
    {
      "cell_type": "code",
      "source": [
        "EQ21tmp = EQ21D.subs(t, T).subs(Q(T), Q_T)\n",
        "EQ18tmp3 = (EQ18tmp - EQ18tmp2).subs(EQ21tmp.lhs, EQ21tmp.rhs).expand()\\\n",
        "    .subs(EQQTT.lhs, EQQTT.rhs).doit()\n",
        "EQ18tmp3"
      ],
      "metadata": {
        "colab": {
          "base_uri": "https://localhost:8080/",
          "height": 98
        },
        "id": "v7aAjf1fah0x",
        "outputId": "b99c679d-14e5-4042-b971-42b61a5f6c22"
      },
      "execution_count": 25,
      "outputs": [
        {
          "output_type": "execute_result",
          "data": {
            "text/plain": [
              "                                                                              \n",
              "-β        T                  β           T  T          -β            T  T     \n",
              "───⋅(z(T)) ⋅Q_T⋅A⋅y(T - 1) + ─⋅(y(T - 1)) ⋅A ⋅Q_T⋅z(T) ───⋅(y(T - 1)) ⋅A ⋅Q_T⋅\n",
              " 2                           2                          2                     \n",
              "\n",
              "            -1                                         -1                  \n",
              "  ⎛ T      ⎞    T            β       T       ⎛ T      ⎞    T               \n",
              "B⋅⎝B ⋅Q_T⋅B⎠  ⋅B ⋅Q_T⋅z(T) + ─⋅(z(T)) ⋅Q_T⋅B⋅⎝B ⋅Q_T⋅B⎠  ⋅B ⋅Q_T⋅A⋅y(T - 1)\n",
              "                             2                                             "
            ],
            "image/png": "[encoded data removed]",
            "text/latex": "$\\displaystyle - \\frac{1}{2} \\beta \\left(y{\\left(T - 1 \\right)}\\right)^{T} A^{T} Q_{T} B \\left(B^{T} Q_{T} B\\right)^{-1} B^{T} Q_{T} z{\\left(T \\right)} - \\left(\\frac{1}{2}\\right) \\beta \\left(z{\\left(T \\right)}\\right)^{T} Q_{T} A y{\\left(T - 1 \\right)} + \\left(\\frac{1}{2}\\right) \\beta \\left(y{\\left(T - 1 \\right)}\\right)^{T} A^{T} Q_{T} z{\\left(T \\right)} + \\left(\\frac{1}{2}\\right) \\beta \\left(z{\\left(T \\right)}\\right)^{T} Q_{T} B \\left(B^{T} Q_{T} B\\right)^{-1} B^{T} Q_{T} A y{\\left(T - 1 \\right)}$"
          },
          "metadata": {},
          "execution_count": 25
        }
      ]
    },
    {
      "cell_type": "markdown",
      "source": [
        "今次の式が成り立つことから、B の逆行列は取れないが、X == Q_T と仮定する。"
      ],
      "metadata": {
        "id": "7Dv--QP1mIJp"
      }
    },
    {
      "cell_type": "code",
      "source": [
        "X = MatrixSymbol(\"X\", n, n)\n",
        "EQtmp = Eq(X, (Q_T * B * (B.T * Q_T * B) ** -1 * B.T * Q_T))\n",
        "EQtmp2 = Eq(EQtmp.lhs * B, mat_trivial_divide(EQtmp.rhs * B))\n",
        "EQtmp2"
      ],
      "metadata": {
        "colab": {
          "base_uri": "https://localhost:8080/",
          "height": 38
        },
        "id": "nZg9rufLaonL",
        "outputId": "1a9a265f-fa98-4691-eed9-f1cc55d6943a"
      },
      "execution_count": 26,
      "outputs": [
        {
          "output_type": "execute_result",
          "data": {
            "text/plain": [
              "X⋅B = Q_T⋅B"
            ],
            "image/png": "[encoded data removed]",
            "text/latex": "$\\displaystyle X B = Q_{T} B$"
          },
          "metadata": {},
          "execution_count": 26
        }
      ]
    },
    {
      "cell_type": "code",
      "source": [
        "EQ18tmp3.subs(EQtmp.rhs, Q_T).doit()"
      ],
      "metadata": {
        "colab": {
          "base_uri": "https://localhost:8080/",
          "height": 37
        },
        "id": "woix3CP0mV1w",
        "outputId": "4275039d-e28d-47a4-d67c-743b4d8b3dd5"
      },
      "execution_count": 27,
      "outputs": [
        {
          "output_type": "execute_result",
          "data": {
            "text/plain": [
              "𝟘"
            ],
            "image/png": "[encoded data removed]",
            "text/latex": "$\\displaystyle \\mathbb{0}$"
          },
          "metadata": {},
          "execution_count": 27
        }
      ]
    },
    {
      "cell_type": "markdown",
      "source": [
        "ちょっと裏技っぽいのを使ったが、式(18b)は示せたものとする。"
      ],
      "metadata": {
        "id": "-PGUpDkKmmYC"
      }
    },
    {
      "cell_type": "code",
      "source": [
        "EQ11tmp = EQ11.subs(t, T - 1)\n",
        "EQ18tmp = EQ18b_rhs.subs(EQ11tmp.lhs, EQ11tmp.rhs)\n",
        "EQ18tmp"
      ],
      "metadata": {
        "colab": {
          "base_uri": "https://localhost:8080/",
          "height": 80
        },
        "id": "JRzTUN_wj51x",
        "outputId": "3506aa20-5c08-4620-8ca8-0ee7a67cd15e"
      },
      "execution_count": 28,
      "outputs": [
        {
          "output_type": "execute_result",
          "data": {
            "text/plain": [
              "          T                                                                   \n",
              "(P(T - 1)) ⋅(A⋅y(T - 2) + B⋅x(T - 1) + z(T - 1)) + 1/2⋅(A⋅y(T - 2) + B⋅x(T - 1\n",
              "\n",
              "             T                                                         \n",
              ") + z(T - 1)) ⋅Q(T - 1)⋅(A⋅y(T - 2) + B⋅x(T - 1) + z(T - 1)) + g(T - 1)"
            ],
            "image/png": "[encoded data removed]",
            "text/latex": "$\\displaystyle g{\\left(T - 1 \\right)} + \\left(\\frac{1}{2}\\right) \\left(z{\\left(T - 1 \\right)} + A y{\\left(T - 2 \\right)} + B x{\\left(T - 1 \\right)}\\right)^{T} Q{\\left(T - 1 \\right)} \\left(z{\\left(T - 1 \\right)} + A y{\\left(T - 2 \\right)} + B x{\\left(T - 1 \\right)}\\right) + \\left(P{\\left(T - 1 \\right)}\\right)^{T} \\left(z{\\left(T - 1 \\right)} + A y{\\left(T - 2 \\right)} + B x{\\left(T - 1 \\right)}\\right)$"
          },
          "metadata": {},
          "execution_count": 28
        }
      ]
    },
    {
      "cell_type": "code",
      "source": [
        "z_Tm1 = MatrixSymbol(\"z_Tm1\", n, 1)\n",
        "y_Tm2 = MatrixSymbol(\"y_Tm2\", n, 1)\n",
        "x_Tm1 = MatrixSymbol(\"x_Tm1\", m, 1)\n",
        "P_Tm1 = MatrixSymbol(\"P_Tm1\", n, 1)\n",
        "Q_Tm1 = MatrixSymbol(\"Q_Tm1\", n, n)\n",
        "g_Tm1 = MatrixSymbol(\"g_Tm1\", 1, 1)\n",
        "EQ18tmp2 = EQ18tmp.subs({x(T - 1): x_Tm1,\n",
        "                         y(T - 2): y_Tm2,\n",
        "                         z(T - 1): z_Tm1,\n",
        "                         P(T - 1): P_Tm1,\n",
        "                         Q(T - 1): Q_Tm1,\n",
        "                         g(T - 1): g_Tm1})\n",
        "EQ18tmp3 = EQ18tmp2.diff(x_Tm1)\n",
        "EQ18tmp4 = EQ18tmp3.subs({x_Tm1: x(T - 1),\n",
        "                          y_Tm2: y(T - 2),\n",
        "                          z_Tm1: z(T - 1),\n",
        "                          P_Tm1: P(T - 1),\n",
        "                          Q_Tm1: Q(T - 1),\n",
        "                          g_Tm1: g(T - 1)})\n",
        "EQ18tmp4"
      ],
      "metadata": {
        "colab": {
          "base_uri": "https://localhost:8080/",
          "height": 58
        },
        "id": "JVcqx5h08Xeu",
        "outputId": "3bd98e8e-bca2-4535-f5b0-8cf75cb8a40e"
      },
      "execution_count": 29,
      "outputs": [
        {
          "output_type": "execute_result",
          "data": {
            "text/plain": [
              " T                 T                                                      T   \n",
              "B ⋅P(T - 1) + 1/2⋅B ⋅Q(T - 1)⋅(A⋅y(T - 2) + B⋅x(T - 1) + z(T - 1)) + 1/2⋅B ⋅(Q\n",
              "\n",
              "        T                                     \n",
              "(T - 1)) ⋅(A⋅y(T - 2) + B⋅x(T - 1) + z(T - 1))"
            ],
            "image/png": "[encoded data removed]",
            "text/latex": "$\\displaystyle B^{T} P{\\left(T - 1 \\right)} + \\left(\\frac{1}{2}\\right) B^{T} Q{\\left(T - 1 \\right)} \\left(z{\\left(T - 1 \\right)} + A y{\\left(T - 2 \\right)} + B x{\\left(T - 1 \\right)}\\right) + \\left(\\frac{1}{2}\\right) B^{T} \\left(Q{\\left(T - 1 \\right)}\\right)^{T} \\left(z{\\left(T - 1 \\right)} + A y{\\left(T - 2 \\right)} + B x{\\left(T - 1 \\right)}\\right)$"
          },
          "metadata": {},
          "execution_count": 29
        }
      ]
    },
    {
      "cell_type": "markdown",
      "source": [
        "さてここで帰納法で Q(t).T == Q(t) を示す。t := T のときは言えているので、Q(t + 1).T == Q(t + 1) が言えているとして Q(t).T == Q(t) を示す。"
      ],
      "metadata": {
        "id": "LMvifeRwqbso"
      }
    },
    {
      "cell_type": "code",
      "source": [
        "EQ21tmp = EQ21D.subs(t, t + 1)\n",
        "EQ24tmp = EQ24D.subs(EQ21tmp.lhs, EQ21tmp.rhs).expand().doit()"
      ],
      "metadata": {
        "id": "YgRHd_tvnrEI"
      },
      "execution_count": 30,
      "outputs": []
    },
    {
      "cell_type": "code",
      "source": [
        "EQ24tmp"
      ],
      "metadata": {
        "colab": {
          "base_uri": "https://localhost:8080/",
          "height": 42
        },
        "id": "8jeNN4t4qJJB",
        "outputId": "dd47155e-ac7d-45be-dd59-ed764d3c940a"
      },
      "execution_count": 31,
      "outputs": [
        {
          "output_type": "execute_result",
          "data": {
            "text/plain": [
              "                                                       -1                    \n",
              "          T                T            ⎛ T           ⎞    T                 \n",
              "Q(t) = β⋅A ⋅Q(t + 1)⋅A -β⋅A ⋅Q(t + 1)⋅B⋅⎝B ⋅Q(t + 1)⋅B⎠  ⋅B ⋅Q(t + 1)⋅A + Q_T"
            ],
            "image/png": "[encoded data removed]",
            "text/latex": "$\\displaystyle Q{\\left(t \\right)} = - \\beta A^{T} Q{\\left(t + 1 \\right)} B \\left(B^{T} Q{\\left(t + 1 \\right)} B\\right)^{-1} B^{T} Q{\\left(t + 1 \\right)} A + \\beta A^{T} Q{\\left(t + 1 \\right)} A + Q_{T}$"
          },
          "metadata": {},
          "execution_count": 31
        }
      ]
    },
    {
      "cell_type": "code",
      "source": [
        "EQ24tmp2 = EQ24tmp.rhs.T.subs(Q(t + 1).T, Q(t + 1)).subs(EQQTT.lhs, EQQTT.rhs).doit()\n",
        "(EQ24tmp.rhs - EQ24tmp2).expand().doit()"
      ],
      "metadata": {
        "colab": {
          "base_uri": "https://localhost:8080/",
          "height": 37
        },
        "id": "GpJOatscqLDC",
        "outputId": "ff7a8bd7-8062-41fa-e779-1148e4dca8cf"
      },
      "execution_count": 32,
      "outputs": [
        {
          "output_type": "execute_result",
          "data": {
            "text/plain": [
              "𝟘"
            ],
            "image/png": "[encoded data removed]",
            "text/latex": "$\\displaystyle \\mathbb{0}$"
          },
          "metadata": {},
          "execution_count": 32
        }
      ]
    },
    {
      "cell_type": "markdown",
      "source": [
        "ゆえに次が言えた。"
      ],
      "metadata": {
        "id": "7jlKw1E6rjcg"
      }
    },
    {
      "cell_type": "code",
      "source": [
        "EQQtT = Eq(Q(t).T, Q(t))"
      ],
      "metadata": {
        "id": "G5geS7r_qOaB"
      },
      "execution_count": 33,
      "outputs": []
    },
    {
      "cell_type": "markdown",
      "source": [
        "微分に戻ろう。"
      ],
      "metadata": {
        "id": "_Qoahu_vrps3"
      }
    },
    {
      "cell_type": "code",
      "source": [
        "EQQtTtmp = EQQtT.subs(t, T - 1)\n",
        "EQ18tmp5 = EQ18tmp4.subs(EQQtTtmp.lhs, EQQtTtmp.rhs).expand().doit()\n",
        "EQ18tmp5"
      ],
      "metadata": {
        "colab": {
          "base_uri": "https://localhost:8080/",
          "height": 38
        },
        "id": "E-PyiEoAsP0Y",
        "outputId": "7a6b8707-92cb-4216-982c-00cb1b82a829"
      },
      "execution_count": 34,
      "outputs": [
        {
          "output_type": "execute_result",
          "data": {
            "text/plain": [
              " T             T                      T                        T              \n",
              "B ⋅P(T - 1) + B ⋅Q(T - 1)⋅z(T - 1) + B ⋅Q(T - 1)⋅A⋅y(T - 2) + B ⋅Q(T - 1)⋅B⋅x(\n",
              "\n",
              "      \n",
              "T - 1)"
            ],
            "image/png": "[encoded data removed]",
            "text/latex": "$\\displaystyle B^{T} P{\\left(T - 1 \\right)} + B^{T} Q{\\left(T - 1 \\right)} z{\\left(T - 1 \\right)} + B^{T} Q{\\left(T - 1 \\right)} A y{\\left(T - 2 \\right)} + B^{T} Q{\\left(T - 1 \\right)} B x{\\left(T - 1 \\right)}$"
          },
          "metadata": {},
          "execution_count": 34
        }
      ]
    },
    {
      "cell_type": "code",
      "source": [
        "EQ18tmp6 = mat_collect(mat_divide(EQ18tmp5, B.T * Q(T - 1) * B), ((B.T * Q(T - 1) * B) ** -1) * B.T, right=True)\n",
        "EQ18tmp6"
      ],
      "metadata": {
        "colab": {
          "base_uri": "https://localhost:8080/",
          "height": 42
        },
        "id": "dCw5vn_lsfSR",
        "outputId": "8fec66e3-7f6f-441b-c0f9-571862b8ee57"
      },
      "execution_count": 35,
      "outputs": [
        {
          "output_type": "execute_result",
          "data": {
            "text/plain": [
              "               -1                                                             \n",
              "⎛ T           ⎞    T                                                          \n",
              "⎝B ⋅Q(T - 1)⋅B⎠  ⋅B ⋅(Q(T - 1)⋅z(T - 1) + Q(T - 1)⋅A⋅y(T - 2) + P(T - 1)) + x(\n",
              "\n",
              "      \n",
              "      \n",
              "T - 1)"
            ],
            "image/png": "[encoded data removed]",
            "text/latex": "$\\displaystyle x{\\left(T - 1 \\right)} + \\left(B^{T} Q{\\left(T - 1 \\right)} B\\right)^{-1} B^{T} \\left(P{\\left(T - 1 \\right)} + Q{\\left(T - 1 \\right)} z{\\left(T - 1 \\right)} + Q{\\left(T - 1 \\right)} A y{\\left(T - 2 \\right)}\\right)$"
          },
          "metadata": {},
          "execution_count": 35
        }
      ]
    },
    {
      "cell_type": "markdown",
      "source": [
        "EQ18tmp6 == 0 と置いて、これが EQ19D と同じことを示したい。"
      ],
      "metadata": {
        "id": "vOq4YPfa-Q6-"
      }
    },
    {
      "cell_type": "code",
      "source": [
        "EQ19b = EQ19D.subs(t, T - 1)\n",
        "(EQ19b.lhs - EQ19b.rhs - EQ18tmp6).expand().doit()"
      ],
      "metadata": {
        "colab": {
          "base_uri": "https://localhost:8080/",
          "height": 37
        },
        "id": "gJL7scS_tA44",
        "outputId": "72de4b6e-251b-4170-b596-ce0fdfdefba2"
      },
      "execution_count": 36,
      "outputs": [
        {
          "output_type": "execute_result",
          "data": {
            "text/plain": [
              "𝟘"
            ],
            "image/png": "[encoded data removed]",
            "text/latex": "$\\displaystyle \\mathbb{0}$"
          },
          "metadata": {},
          "execution_count": 36
        }
      ]
    },
    {
      "cell_type": "markdown",
      "source": [
        "E19b と EQ18tmp6 は同じことであることが示せた。これを最適値を求めるため EQ18tmp に代入して整理していく。"
      ],
      "metadata": {
        "id": "KxO66sfmyloX"
      }
    },
    {
      "cell_type": "code",
      "source": [
        "EQ20tmp = EQ18tmp.subs(EQ19b.lhs, EQ19b.rhs)\n",
        "EQ20tmp"
      ],
      "metadata": {
        "colab": {
          "base_uri": "https://localhost:8080/",
          "height": 129
        },
        "id": "mVeZOTNntRP4",
        "outputId": "48a2e18c-d7b3-4825-dd96-7240e01453e4"
      },
      "execution_count": 37,
      "outputs": [
        {
          "output_type": "execute_result",
          "data": {
            "text/plain": [
              "                                                                              \n",
              "            ⎛               ⎛                -1                               \n",
              "          T ⎜               ⎜ ⎛ T           ⎞    T                            \n",
              "(P(T - 1)) ⋅⎝A⋅y(T - 2) + B⋅⎝-⎝B ⋅Q(T - 1)⋅B⎠  ⋅B ⋅(Q(T - 1)⋅(A⋅y(T - 2) + z(T\n",
              "\n",
              "                                                                              \n",
              "                  ⎞           ⎞       ⎛               ⎛                -1     \n",
              "                  ⎟           ⎟       ⎜               ⎜ ⎛ T           ⎞    T  \n",
              " - 1)) + P(T - 1))⎠ + z(T - 1)⎠ + 1/2⋅⎝A⋅y(T - 2) + B⋅⎝-⎝B ⋅Q(T - 1)⋅B⎠  ⋅B ⋅(\n",
              "\n",
              "                                                         T                    \n",
              "                                            ⎞           ⎞           ⎛         \n",
              "                                            ⎟           ⎟           ⎜         \n",
              "Q(T - 1)⋅(A⋅y(T - 2) + z(T - 1)) + P(T - 1))⎠ + z(T - 1)⎠ ⋅Q(T - 1)⋅⎝A⋅y(T - 2\n",
              "\n",
              "                                                                              \n",
              "      ⎛                -1                                                 ⎞   \n",
              "      ⎜ ⎛ T           ⎞    T                                              ⎟   \n",
              ") + B⋅⎝-⎝B ⋅Q(T - 1)⋅B⎠  ⋅B ⋅(Q(T - 1)⋅(A⋅y(T - 2) + z(T - 1)) + P(T - 1))⎠ + \n",
              "\n",
              "                    \n",
              "        ⎞           \n",
              "        ⎟           \n",
              "z(T - 1)⎠ + g(T - 1)"
            ],
            "image/png": "[encoded data removed]",
            "text/latex": "$\\displaystyle g{\\left(T - 1 \\right)} + \\left(\\frac{1}{2}\\right) \\left(z{\\left(T - 1 \\right)} + A y{\\left(T - 2 \\right)} + B \\left(- \\left(B^{T} Q{\\left(T - 1 \\right)} B\\right)^{-1} B^{T} \\left(P{\\left(T - 1 \\right)} + Q{\\left(T - 1 \\right)} \\left(z{\\left(T - 1 \\right)} + A y{\\left(T - 2 \\right)}\\right)\\right)\\right)\\right)^{T} Q{\\left(T - 1 \\right)} \\left(z{\\left(T - 1 \\right)} + A y{\\left(T - 2 \\right)} + B \\left(- \\left(B^{T} Q{\\left(T - 1 \\right)} B\\right)^{-1} B^{T} \\left(P{\\left(T - 1 \\right)} + Q{\\left(T - 1 \\right)} \\left(z{\\left(T - 1 \\right)} + A y{\\left(T - 2 \\right)}\\right)\\right)\\right)\\right) + \\left(P{\\left(T - 1 \\right)}\\right)^{T} \\left(z{\\left(T - 1 \\right)} + A y{\\left(T - 2 \\right)} + B \\left(- \\left(B^{T} Q{\\left(T - 1 \\right)} B\\right)^{-1} B^{T} \\left(P{\\left(T - 1 \\right)} + Q{\\left(T - 1 \\right)} \\left(z{\\left(T - 1 \\right)} + A y{\\left(T - 2 \\right)}\\right)\\right)\\right)\\right)$"
          },
          "metadata": {},
          "execution_count": 37
        }
      ]
    },
    {
      "cell_type": "code",
      "source": [
        "EQQtTtmp = EQQtT.subs(t, T - 1)\n",
        "EQ20tmp2 = mat_trivial_divide(EQ20tmp.expand().subs(EQQtTtmp.lhs, EQQtTtmp.rhs)).doit()\n",
        "EQ20tmp2"
      ],
      "metadata": {
        "colab": {
          "base_uri": "https://localhost:8080/",
          "height": 286
        },
        "id": "DcPYXagpzQmv",
        "outputId": "af6ccba2-e365-4473-a787-0ba225b4e6d9"
      },
      "execution_count": 38,
      "outputs": [
        {
          "output_type": "execute_result",
          "data": {
            "text/plain": [
              "                                                                              \n",
              "          T                      T                            T               \n",
              "(P(T - 1)) ⋅z(T - 1) + (P(T - 1)) ⋅A⋅y(T - 2) + 1/2⋅(z(T - 1)) ⋅Q(T - 1)⋅z(T -\n",
              "\n",
              "                                                                              \n",
              "                    T  T                                   T                  \n",
              " 1) + 1/2⋅(y(T - 2)) ⋅A ⋅Q(T - 1)⋅z(T - 1) + 1/2⋅(z(T - 1)) ⋅Q(T - 1)⋅A⋅y(T - \n",
              "\n",
              "                                     -1                                       \n",
              "                  T   ⎛ T           ⎞    T                          T  T      \n",
              "2) -1/2⋅(P(T - 1)) ⋅B⋅⎝B ⋅Q(T - 1)⋅B⎠  ⋅B ⋅P(T - 1) + 1/2⋅(y(T - 2)) ⋅A ⋅Q(T -\n",
              "\n",
              "                                             -1                               \n",
              "                          T   ⎛ T           ⎞    T                            \n",
              " 1)⋅A⋅y(T - 2) -(P(T - 1)) ⋅B⋅⎝B ⋅Q(T - 1)⋅B⎠  ⋅B ⋅Q(T - 1)⋅z(T - 1) -(P(T - 1\n",
              "\n",
              "                     -1                                                       \n",
              "  T   ⎛ T           ⎞    T                                    T            ⎛ T\n",
              ")) ⋅B⋅⎝B ⋅Q(T - 1)⋅B⎠  ⋅B ⋅Q(T - 1)⋅A⋅y(T - 2) -1/2⋅(z(T - 1)) ⋅Q(T - 1)⋅B⋅⎝B \n",
              "\n",
              "            -1                                                                \n",
              "           ⎞    T                                  T  T            ⎛ T        \n",
              "⋅Q(T - 1)⋅B⎠  ⋅B ⋅Q(T - 1)⋅z(T - 1) -1/2⋅(y(T - 2)) ⋅A ⋅Q(T - 1)⋅B⋅⎝B ⋅Q(T - 1\n",
              "\n",
              "    -1                                                                 -1     \n",
              "   ⎞    T                                  T            ⎛ T           ⎞    T  \n",
              ")⋅B⎠  ⋅B ⋅Q(T - 1)⋅z(T - 1) -1/2⋅(z(T - 1)) ⋅Q(T - 1)⋅B⋅⎝B ⋅Q(T - 1)⋅B⎠  ⋅B ⋅Q\n",
              "\n",
              "                                                                 -1           \n",
              "                                  T  T            ⎛ T           ⎞    T        \n",
              "(T - 1)⋅A⋅y(T - 2) -1/2⋅(y(T - 2)) ⋅A ⋅Q(T - 1)⋅B⋅⎝B ⋅Q(T - 1)⋅B⎠  ⋅B ⋅Q(T - 1\n",
              "\n",
              "                       \n",
              "                       \n",
              ")⋅A⋅y(T - 2) + g(T - 1)"
            ],
            "image/png": "[encoded data removed]",
            "text/latex": "$\\displaystyle g{\\left(T - 1 \\right)} + \\left(P{\\left(T - 1 \\right)}\\right)^{T} z{\\left(T - 1 \\right)} + \\left(P{\\left(T - 1 \\right)}\\right)^{T} A y{\\left(T - 2 \\right)} - \\left(\\frac{1}{2}\\right) \\left(P{\\left(T - 1 \\right)}\\right)^{T} B \\left(B^{T} Q{\\left(T - 1 \\right)} B\\right)^{-1} B^{T} P{\\left(T - 1 \\right)} - \\left(P{\\left(T - 1 \\right)}\\right)^{T} B \\left(B^{T} Q{\\left(T - 1 \\right)} B\\right)^{-1} B^{T} Q{\\left(T - 1 \\right)} z{\\left(T - 1 \\right)} - \\left(P{\\left(T - 1 \\right)}\\right)^{T} B \\left(B^{T} Q{\\left(T - 1 \\right)} B\\right)^{-1} B^{T} Q{\\left(T - 1 \\right)} A y{\\left(T - 2 \\right)} + \\left(\\frac{1}{2}\\right) \\left(y{\\left(T - 2 \\right)}\\right)^{T} A^{T} Q{\\left(T - 1 \\right)} z{\\left(T - 1 \\right)} + \\left(\\frac{1}{2}\\right) \\left(y{\\left(T - 2 \\right)}\\right)^{T} A^{T} Q{\\left(T - 1 \\right)} A y{\\left(T - 2 \\right)} - \\left(\\frac{1}{2}\\right) \\left(y{\\left(T - 2 \\right)}\\right)^{T} A^{T} Q{\\left(T - 1 \\right)} B \\left(B^{T} Q{\\left(T - 1 \\right)} B\\right)^{-1} B^{T} Q{\\left(T - 1 \\right)} z{\\left(T - 1 \\right)} - \\left(\\frac{1}{2}\\right) \\left(y{\\left(T - 2 \\right)}\\right)^{T} A^{T} Q{\\left(T - 1 \\right)} B \\left(B^{T} Q{\\left(T - 1 \\right)} B\\right)^{-1} B^{T} Q{\\left(T - 1 \\right)} A y{\\left(T - 2 \\right)} + \\left(\\frac{1}{2}\\right) \\left(z{\\left(T - 1 \\right)}\\right)^{T} Q{\\left(T - 1 \\right)} z{\\left(T - 1 \\right)} + \\left(\\frac{1}{2}\\right) \\left(z{\\left(T - 1 \\right)}\\right)^{T} Q{\\left(T - 1 \\right)} A y{\\left(T - 2 \\right)} - \\left(\\frac{1}{2}\\right) \\left(z{\\left(T - 1 \\right)}\\right)^{T} Q{\\left(T - 1 \\right)} B \\left(B^{T} Q{\\left(T - 1 \\right)} B\\right)^{-1} B^{T} Q{\\left(T - 1 \\right)} z{\\left(T - 1 \\right)} - \\left(\\frac{1}{2}\\right) \\left(z{\\left(T - 1 \\right)}\\right)^{T} Q{\\left(T - 1 \\right)} B \\left(B^{T} Q{\\left(T - 1 \\right)} B\\right)^{-1} B^{T} Q{\\left(T - 1 \\right)} A y{\\left(T - 2 \\right)}$"
          },
          "metadata": {},
          "execution_count": 38
        }
      ]
    },
    {
      "cell_type": "markdown",
      "source": [
        "これが EQ20D と同じであることを示したい。"
      ],
      "metadata": {
        "id": "Z0RobKK69tnn"
      }
    },
    {
      "cell_type": "code",
      "source": [
        "EQ21tmp = EQ21D.subs(t, T - 1)\n",
        "EQ22tmp = EQ22D.subs(t, T - 1)\n",
        "EQ20tmp = EQ20D.subs(t, T - 1)\n",
        "\n",
        "EQ20tmp3 = EQ20tmp.rhs.subs({EQ21tmp.lhs: EQ21tmp.rhs,\n",
        "                             EQ22tmp.lhs: EQ22tmp.rhs})\\\n",
        "                      .expand().doit()\n",
        "EQ20tmp3"
      ],
      "metadata": {
        "colab": {
          "base_uri": "https://localhost:8080/",
          "height": 286
        },
        "id": "US7eVPyLzkaw",
        "outputId": "3008605c-94d9-48bf-e367-798787db3308"
      },
      "execution_count": 39,
      "outputs": [
        {
          "output_type": "execute_result",
          "data": {
            "text/plain": [
              "                                                                              \n",
              "          T                      T                            T               \n",
              "(P(T - 1)) ⋅z(T - 1) + (P(T - 1)) ⋅A⋅y(T - 2) + 1/2⋅(z(T - 1)) ⋅Q(T - 1)⋅z(T -\n",
              "\n",
              "                                                                              \n",
              "                    T  T                                   T                  \n",
              " 1) + 1/2⋅(y(T - 2)) ⋅A ⋅Q(T - 1)⋅z(T - 1) + 1/2⋅(z(T - 1)) ⋅Q(T - 1)⋅A⋅y(T - \n",
              "\n",
              "                                     -1                                       \n",
              "                  T   ⎛ T           ⎞    T                          T  T      \n",
              "2) -1/2⋅(P(T - 1)) ⋅B⋅⎝B ⋅Q(T - 1)⋅B⎠  ⋅B ⋅P(T - 1) + 1/2⋅(y(T - 2)) ⋅A ⋅Q(T -\n",
              "\n",
              "                                             -1                               \n",
              "                          T   ⎛ T           ⎞    T                            \n",
              " 1)⋅A⋅y(T - 2) -(P(T - 1)) ⋅B⋅⎝B ⋅Q(T - 1)⋅B⎠  ⋅B ⋅Q(T - 1)⋅z(T - 1) -(P(T - 1\n",
              "\n",
              "                     -1                                                       \n",
              "  T   ⎛ T           ⎞    T                                    T            ⎛ T\n",
              ")) ⋅B⋅⎝B ⋅Q(T - 1)⋅B⎠  ⋅B ⋅Q(T - 1)⋅A⋅y(T - 2) -1/2⋅(z(T - 1)) ⋅Q(T - 1)⋅B⋅⎝B \n",
              "\n",
              "            -1                                                                \n",
              "           ⎞    T                                  T  T            ⎛ T        \n",
              "⋅Q(T - 1)⋅B⎠  ⋅B ⋅Q(T - 1)⋅z(T - 1) -1/2⋅(y(T - 2)) ⋅A ⋅Q(T - 1)⋅B⋅⎝B ⋅Q(T - 1\n",
              "\n",
              "    -1                                                                 -1     \n",
              "   ⎞    T                                  T            ⎛ T           ⎞    T  \n",
              ")⋅B⎠  ⋅B ⋅Q(T - 1)⋅z(T - 1) -1/2⋅(z(T - 1)) ⋅Q(T - 1)⋅B⋅⎝B ⋅Q(T - 1)⋅B⎠  ⋅B ⋅Q\n",
              "\n",
              "                                                                 -1           \n",
              "                                  T  T            ⎛ T           ⎞    T        \n",
              "(T - 1)⋅A⋅y(T - 2) -1/2⋅(y(T - 2)) ⋅A ⋅Q(T - 1)⋅B⋅⎝B ⋅Q(T - 1)⋅B⎠  ⋅B ⋅Q(T - 1\n",
              "\n",
              "                       \n",
              "                       \n",
              ")⋅A⋅y(T - 2) + g(T - 1)"
            ],
            "image/png": "[encoded data removed]",
            "text/latex": "$\\displaystyle g{\\left(T - 1 \\right)} + \\left(P{\\left(T - 1 \\right)}\\right)^{T} z{\\left(T - 1 \\right)} + \\left(P{\\left(T - 1 \\right)}\\right)^{T} A y{\\left(T - 2 \\right)} - \\left(\\frac{1}{2}\\right) \\left(P{\\left(T - 1 \\right)}\\right)^{T} B \\left(B^{T} Q{\\left(T - 1 \\right)} B\\right)^{-1} B^{T} P{\\left(T - 1 \\right)} - \\left(P{\\left(T - 1 \\right)}\\right)^{T} B \\left(B^{T} Q{\\left(T - 1 \\right)} B\\right)^{-1} B^{T} Q{\\left(T - 1 \\right)} z{\\left(T - 1 \\right)} - \\left(P{\\left(T - 1 \\right)}\\right)^{T} B \\left(B^{T} Q{\\left(T - 1 \\right)} B\\right)^{-1} B^{T} Q{\\left(T - 1 \\right)} A y{\\left(T - 2 \\right)} + \\left(\\frac{1}{2}\\right) \\left(y{\\left(T - 2 \\right)}\\right)^{T} A^{T} Q{\\left(T - 1 \\right)} z{\\left(T - 1 \\right)} + \\left(\\frac{1}{2}\\right) \\left(y{\\left(T - 2 \\right)}\\right)^{T} A^{T} Q{\\left(T - 1 \\right)} A y{\\left(T - 2 \\right)} - \\left(\\frac{1}{2}\\right) \\left(y{\\left(T - 2 \\right)}\\right)^{T} A^{T} Q{\\left(T - 1 \\right)} B \\left(B^{T} Q{\\left(T - 1 \\right)} B\\right)^{-1} B^{T} Q{\\left(T - 1 \\right)} z{\\left(T - 1 \\right)} - \\left(\\frac{1}{2}\\right) \\left(y{\\left(T - 2 \\right)}\\right)^{T} A^{T} Q{\\left(T - 1 \\right)} B \\left(B^{T} Q{\\left(T - 1 \\right)} B\\right)^{-1} B^{T} Q{\\left(T - 1 \\right)} A y{\\left(T - 2 \\right)} + \\left(\\frac{1}{2}\\right) \\left(z{\\left(T - 1 \\right)}\\right)^{T} Q{\\left(T - 1 \\right)} z{\\left(T - 1 \\right)} + \\left(\\frac{1}{2}\\right) \\left(z{\\left(T - 1 \\right)}\\right)^{T} Q{\\left(T - 1 \\right)} A y{\\left(T - 2 \\right)} - \\left(\\frac{1}{2}\\right) \\left(z{\\left(T - 1 \\right)}\\right)^{T} Q{\\left(T - 1 \\right)} B \\left(B^{T} Q{\\left(T - 1 \\right)} B\\right)^{-1} B^{T} Q{\\left(T - 1 \\right)} z{\\left(T - 1 \\right)} - \\left(\\frac{1}{2}\\right) \\left(z{\\left(T - 1 \\right)}\\right)^{T} Q{\\left(T - 1 \\right)} B \\left(B^{T} Q{\\left(T - 1 \\right)} B\\right)^{-1} B^{T} Q{\\left(T - 1 \\right)} A y{\\left(T - 2 \\right)}$"
          },
          "metadata": {},
          "execution_count": 39
        }
      ]
    },
    {
      "cell_type": "code",
      "source": [
        "(EQ20tmp2 - EQ20tmp3).expand().doit()"
      ],
      "metadata": {
        "colab": {
          "base_uri": "https://localhost:8080/",
          "height": 37
        },
        "id": "UCfwnvsV0fZQ",
        "outputId": "c453d69e-bf00-4907-8c1d-892874ca7c14"
      },
      "execution_count": 40,
      "outputs": [
        {
          "output_type": "execute_result",
          "data": {
            "text/plain": [
              "𝟘"
            ],
            "image/png": "[encoded data removed]",
            "text/latex": "$\\displaystyle \\mathbb{0}$"
          },
          "metadata": {},
          "execution_count": 40
        }
      ]
    },
    {
      "cell_type": "markdown",
      "source": [
        "これで t := T - 1 において、EQ19D EQ20D が成り立つことが示せたことになる。\n",
        "\n",
        "次に帰納法の本題である。t := t において EQ19D EQ20D が成り立っているとき、t := t - 1 において EQ19D EQ20D が成り立っていることを示す。\n"
      ],
      "metadata": {
        "id": "lQ-T_X2n0uO3"
      }
    },
    {
      "cell_type": "code",
      "source": [
        "EQ17_lhs_tmp = EQ17_lhs.subs(tau, t - 1)\n",
        "EQ17_rhs_tmp = EQ17_rhs.subs(tau, t - 1)\n",
        "EQ13tmp = EQ13.subs(t, t -1)\n",
        "EQ18tmp = EQ17_rhs_tmp.subs({EQ13tmp.lhs: EQ13tmp.rhs, EQ20D.lhs: EQ20D.rhs})\n",
        "EQ18tmp"
      ],
      "metadata": {
        "colab": {
          "base_uri": "https://localhost:8080/",
          "height": 98
        },
        "id": "xgxfu3Xd0ofA",
        "outputId": "e5057d5f-e410-4fed-a178-f0e279dc9f53"
      },
      "execution_count": 41,
      "outputs": [
        {
          "output_type": "execute_result",
          "data": {
            "text/plain": [
              "  ⎛            ⎛    ⎛          T  T         T⎞              T⎞                \n",
              "β⋅⎝-1/2⋅h(t) + ⎝1/2⋅⎝(y(t - 1)) ⋅A  + (z(t)) ⎠⋅Q(t) + (P(t)) ⎠⋅S(t)⋅(A⋅y(t - 1\n",
              "\n",
              "                ⎞      T                          T             \n",
              ") + z(t)) + g(t)⎠ + P_T ⋅y(t - 1) + 1/2⋅(y(t - 1)) ⋅Q_T⋅y(t - 1)"
            ],
            "image/png": "[encoded data removed]",
            "text/latex": "$\\displaystyle \\beta \\left(\\left(\\left(\\frac{1}{2}\\right) \\left(\\left(y{\\left(t - 1 \\right)}\\right)^{T} A^{T} + \\left(z{\\left(t \\right)}\\right)^{T}\\right) Q{\\left(t \\right)} + \\left(P{\\left(t \\right)}\\right)^{T}\\right) S{\\left(t \\right)} \\left(z{\\left(t \\right)} + A y{\\left(t - 1 \\right)}\\right) + g{\\left(t \\right)} - \\left(\\frac{1}{2}\\right) h{\\left(t \\right)}\\right) + \\left(\\left(\\frac{1}{2}\\right) \\left(y{\\left(t - 1 \\right)}\\right)^{T} Q_{T} y{\\left(t - 1 \\right)} + P_{T}^{T} y{\\left(t - 1 \\right)}\\right)$"
          },
          "metadata": {},
          "execution_count": 41
        }
      ]
    },
    {
      "cell_type": "code",
      "source": [
        "EQ18c_rhs = P(t - 1).T * y(t - 1) \\\n",
        "    + Rational(1, 2) * y(t - 1).T * Q(t - 1) * y(t-1) + g(t - 1)\n",
        "EQ24tmp = EQ24D.subs(t, t - 1)\n",
        "EQ23tmp = EQ23D.subs(t, t - 1)\n",
        "EQ25tmp = EQ25D.subs(t, t - 1).subs(EQGT.lhs, EQGT.rhs).doit()\n",
        "EQ18tmp2 = EQ18c_rhs.subs({EQ24tmp.lhs: EQ24tmp.rhs,\n",
        "                           EQ23tmp.lhs: EQ23tmp.rhs,\n",
        "                           EQ25tmp.lhs: EQ25tmp.rhs})\n",
        "EQ18tmp2"
      ],
      "metadata": {
        "colab": {
          "base_uri": "https://localhost:8080/",
          "height": 98
        },
        "id": "x_LH6F8x18Lo",
        "outputId": "6b76890e-d075-449e-92f7-43a752105a32"
      },
      "execution_count": 42,
      "outputs": [
        {
          "output_type": "execute_result",
          "data": {
            "text/plain": [
              "                                               T                              \n",
              "⎛   T       T           T                     ⎞                           T ⎛ \n",
              "⎝β⋅A ⋅(S(t)) ⋅P(t) + β⋅A ⋅Q(t)⋅S(t)⋅z(t) + P_T⎠ ⋅y(t - 1) + 1/2⋅(y(t - 1)) ⋅⎝β\n",
              "\n",
              "                                                                              \n",
              "  T                  ⎞              ⎛                  T                      \n",
              "⋅A ⋅Q(t)⋅S(t)⋅A + Q_T⎠⋅y(t - 1) + β⋅⎝-1/2⋅h(t) + (P(t)) ⋅S(t)⋅z(t) + 1/2⋅(z(t)\n",
              "\n",
              "                         \n",
              " T                      ⎞\n",
              ") ⋅Q(t)⋅S(t)⋅z(t) + g(t)⎠"
            ],
            "image/png": "[encoded data removed]",
            "text/latex": "$\\displaystyle \\beta \\left(g{\\left(t \\right)} - \\left(\\frac{1}{2}\\right) h{\\left(t \\right)} + \\left(P{\\left(t \\right)}\\right)^{T} S{\\left(t \\right)} z{\\left(t \\right)} + \\left(\\frac{1}{2}\\right) \\left(z{\\left(t \\right)}\\right)^{T} Q{\\left(t \\right)} S{\\left(t \\right)} z{\\left(t \\right)}\\right) + \\left(\\beta A^{T} Q{\\left(t \\right)} S{\\left(t \\right)} z{\\left(t \\right)} + \\beta A^{T} \\left(S{\\left(t \\right)}\\right)^{T} P{\\left(t \\right)} + P_{T}\\right)^{T} y{\\left(t - 1 \\right)} + \\left(\\frac{1}{2}\\right) \\left(y{\\left(t - 1 \\right)}\\right)^{T} \\left(\\beta A^{T} Q{\\left(t \\right)} S{\\left(t \\right)} A + Q_{T}\\right) y{\\left(t - 1 \\right)}$"
          },
          "metadata": {},
          "execution_count": 42
        }
      ]
    },
    {
      "cell_type": "code",
      "source": [
        "EQ18tmp3 = (EQ18tmp - EQ18tmp2)\\\n",
        "    .subs(EQ21D.lhs, EQ21D.rhs).expand()\\\n",
        "    .subs(EQQtT.lhs, EQQtT.rhs).expand().doit()\n",
        "EQ18tmp3"
      ],
      "metadata": {
        "colab": {
          "base_uri": "https://localhost:8080/",
          "height": 98
        },
        "id": "wMVZFKi_2SPo",
        "outputId": "bf197a51-ba9e-45f4-b0d8-6f720c0c62cc"
      },
      "execution_count": 43,
      "outputs": [
        {
          "output_type": "execute_result",
          "data": {
            "text/plain": [
              "                                                                              \n",
              "-β        T                   β           T  T           -β            T  T   \n",
              "───⋅(z(t)) ⋅Q(t)⋅A⋅y(t - 1) + ─⋅(y(t - 1)) ⋅A ⋅Q(t)⋅z(t) ───⋅(y(t - 1)) ⋅A ⋅Q(\n",
              " 2                            2                           2                   \n",
              "\n",
              "                -1                                            -1              \n",
              "     ⎛ T       ⎞    T             β       T        ⎛ T       ⎞    T           \n",
              "t)⋅B⋅⎝B ⋅Q(t)⋅B⎠  ⋅B ⋅Q(t)⋅z(t) + ─⋅(z(t)) ⋅Q(t)⋅B⋅⎝B ⋅Q(t)⋅B⎠  ⋅B ⋅Q(t)⋅A⋅y(t\n",
              "                                  2                                           \n",
              "\n",
              "     \n",
              "     \n",
              " - 1)\n",
              "     "
            ],
            "image/png": "[encoded data removed]",
            "text/latex": "$\\displaystyle - \\frac{1}{2} \\beta \\left(y{\\left(t - 1 \\right)}\\right)^{T} A^{T} Q{\\left(t \\right)} B \\left(B^{T} Q{\\left(t \\right)} B\\right)^{-1} B^{T} Q{\\left(t \\right)} z{\\left(t \\right)} - \\left(\\frac{1}{2}\\right) \\beta \\left(z{\\left(t \\right)}\\right)^{T} Q{\\left(t \\right)} A y{\\left(t - 1 \\right)} + \\left(\\frac{1}{2}\\right) \\beta \\left(y{\\left(t - 1 \\right)}\\right)^{T} A^{T} Q{\\left(t \\right)} z{\\left(t \\right)} + \\left(\\frac{1}{2}\\right) \\beta \\left(z{\\left(t \\right)}\\right)^{T} Q{\\left(t \\right)} B \\left(B^{T} Q{\\left(t \\right)} B\\right)^{-1} B^{T} Q{\\left(t \\right)} A y{\\left(t - 1 \\right)}$"
          },
          "metadata": {},
          "execution_count": 43
        }
      ]
    },
    {
      "cell_type": "markdown",
      "source": [
        "ここで上の X のハックと同じものが成立しているとする。"
      ],
      "metadata": {
        "id": "dF1IHJG53tXK"
      }
    },
    {
      "cell_type": "code",
      "source": [
        "EQ18tmp3.subs((Q(t) * B * (B.T * Q(t) * B) ** -1 * B.T * Q(t)), Q(t)).doit()"
      ],
      "metadata": {
        "colab": {
          "base_uri": "https://localhost:8080/",
          "height": 37
        },
        "id": "3T0s6Z_H3Jqg",
        "outputId": "26439c5c-361f-4728-d957-593e2421c953"
      },
      "execution_count": 44,
      "outputs": [
        {
          "output_type": "execute_result",
          "data": {
            "text/plain": [
              "𝟘"
            ],
            "image/png": "[encoded data removed]",
            "text/latex": "$\\displaystyle \\mathbb{0}$"
          },
          "metadata": {},
          "execution_count": 44
        }
      ]
    },
    {
      "cell_type": "code",
      "source": [
        "EQ11tmp = EQ11.subs(t, t - 1)\n",
        "EQ18tmp = EQ18c_rhs.subs(EQ11tmp.lhs, EQ11tmp.rhs)\n",
        "EQ18tmp"
      ],
      "metadata": {
        "colab": {
          "base_uri": "https://localhost:8080/",
          "height": 80
        },
        "id": "nfCo2wQ74Bqh",
        "outputId": "eaf8c0c5-9eaf-45b7-babd-0ec0b5ffacd1"
      },
      "execution_count": 45,
      "outputs": [
        {
          "output_type": "execute_result",
          "data": {
            "text/plain": [
              "          T                                                                   \n",
              "(P(t - 1)) ⋅(A⋅y(t - 2) + B⋅x(t - 1) + z(t - 1)) + 1/2⋅(A⋅y(t - 2) + B⋅x(t - 1\n",
              "\n",
              "             T                                                         \n",
              ") + z(t - 1)) ⋅Q(t - 1)⋅(A⋅y(t - 2) + B⋅x(t - 1) + z(t - 1)) + g(t - 1)"
            ],
            "image/png": "[encoded data removed]",
            "text/latex": "$\\displaystyle g{\\left(t - 1 \\right)} + \\left(\\frac{1}{2}\\right) \\left(z{\\left(t - 1 \\right)} + A y{\\left(t - 2 \\right)} + B x{\\left(t - 1 \\right)}\\right)^{T} Q{\\left(t - 1 \\right)} \\left(z{\\left(t - 1 \\right)} + A y{\\left(t - 2 \\right)} + B x{\\left(t - 1 \\right)}\\right) + \\left(P{\\left(t - 1 \\right)}\\right)^{T} \\left(z{\\left(t - 1 \\right)} + A y{\\left(t - 2 \\right)} + B x{\\left(t - 1 \\right)}\\right)$"
          },
          "metadata": {},
          "execution_count": 45
        }
      ]
    },
    {
      "cell_type": "code",
      "source": [
        "z_tm1 = MatrixSymbol(\"z_tm1\", n, 1)\n",
        "y_tm2 = MatrixSymbol(\"y_tm2\", n, 1)\n",
        "x_tm1 = MatrixSymbol(\"x_tm1\", m, 1)\n",
        "P_tm1 = MatrixSymbol(\"P_tm1\", n, 1)\n",
        "Q_tm1 = MatrixSymbol(\"Q_tm1\", n, n)\n",
        "g_tm1 = MatrixSymbol(\"g_tm1\", 1, 1)\n",
        "EQ18tmp2 = EQ18tmp.subs({x(t - 1): x_tm1,\n",
        "                         y(t - 2): y_tm2,\n",
        "                         z(t - 1): z_tm1,\n",
        "                         P(t - 1): P_tm1,\n",
        "                         Q(t - 1): Q_tm1,\n",
        "                         g(t - 1): g_tm1})\n",
        "EQ18tmp3 = EQ18tmp2.diff(x_tm1)\n",
        "EQ18tmp4 = EQ18tmp3.subs({x_tm1: x(t - 1),\n",
        "                          y_tm2: y(t - 2),\n",
        "                          z_tm1: z(t - 1),\n",
        "                          P_tm1: P(t - 1),\n",
        "                          Q_tm1: Q(t - 1),\n",
        "                          g_tm1: g(t - 1)})\n",
        "EQ18tmp4"
      ],
      "metadata": {
        "colab": {
          "base_uri": "https://localhost:8080/",
          "height": 58
        },
        "id": "CBiCbMWf8Ljf",
        "outputId": "4e9dbb73-0ab6-46bb-8501-98ac92f35342"
      },
      "execution_count": 46,
      "outputs": [
        {
          "output_type": "execute_result",
          "data": {
            "text/plain": [
              " T                 T                                                      T   \n",
              "B ⋅P(t - 1) + 1/2⋅B ⋅Q(t - 1)⋅(A⋅y(t - 2) + B⋅x(t - 1) + z(t - 1)) + 1/2⋅B ⋅(Q\n",
              "\n",
              "        T                                     \n",
              "(t - 1)) ⋅(A⋅y(t - 2) + B⋅x(t - 1) + z(t - 1))"
            ],
            "image/png": "[encoded data removed]",
            "text/latex": "$\\displaystyle B^{T} P{\\left(t - 1 \\right)} + \\left(\\frac{1}{2}\\right) B^{T} Q{\\left(t - 1 \\right)} \\left(z{\\left(t - 1 \\right)} + A y{\\left(t - 2 \\right)} + B x{\\left(t - 1 \\right)}\\right) + \\left(\\frac{1}{2}\\right) B^{T} \\left(Q{\\left(t - 1 \\right)}\\right)^{T} \\left(z{\\left(t - 1 \\right)} + A y{\\left(t - 2 \\right)} + B x{\\left(t - 1 \\right)}\\right)$"
          },
          "metadata": {},
          "execution_count": 46
        }
      ]
    },
    {
      "cell_type": "code",
      "source": [
        "EQQtTtmp = EQQtT.subs(t, t - 1)\n",
        "EQ18tmp5 = EQ18tmp4.subs(EQQtTtmp.lhs, EQQtTtmp.rhs).expand().doit()\n",
        "EQ18tmp5"
      ],
      "metadata": {
        "colab": {
          "base_uri": "https://localhost:8080/",
          "height": 38
        },
        "id": "BmKhRFBn4hv_",
        "outputId": "d4bf71ac-0bc4-42c0-8780-a0733ce9f5ae"
      },
      "execution_count": 47,
      "outputs": [
        {
          "output_type": "execute_result",
          "data": {
            "text/plain": [
              " T             T                      T                        T              \n",
              "B ⋅P(t - 1) + B ⋅Q(t - 1)⋅z(t - 1) + B ⋅Q(t - 1)⋅A⋅y(t - 2) + B ⋅Q(t - 1)⋅B⋅x(\n",
              "\n",
              "      \n",
              "t - 1)"
            ],
            "image/png": "[encoded data removed]",
            "text/latex": "$\\displaystyle B^{T} P{\\left(t - 1 \\right)} + B^{T} Q{\\left(t - 1 \\right)} z{\\left(t - 1 \\right)} + B^{T} Q{\\left(t - 1 \\right)} A y{\\left(t - 2 \\right)} + B^{T} Q{\\left(t - 1 \\right)} B x{\\left(t - 1 \\right)}$"
          },
          "metadata": {},
          "execution_count": 47
        }
      ]
    },
    {
      "cell_type": "code",
      "source": [
        "EQ18tmp6 = mat_collect(mat_divide(EQ18tmp5, B.T * Q(t - 1) * B), ((B.T * Q(t - 1) * B) ** -1) * B.T, right=True)\n",
        "EQ18tmp6"
      ],
      "metadata": {
        "colab": {
          "base_uri": "https://localhost:8080/",
          "height": 42
        },
        "id": "UeCIweRR5DW4",
        "outputId": "75b2673d-d01b-4125-fcf9-134250533ef3"
      },
      "execution_count": 48,
      "outputs": [
        {
          "output_type": "execute_result",
          "data": {
            "text/plain": [
              "               -1                                                             \n",
              "⎛ T           ⎞    T                                                          \n",
              "⎝B ⋅Q(t - 1)⋅B⎠  ⋅B ⋅(Q(t - 1)⋅z(t - 1) + Q(t - 1)⋅A⋅y(t - 2) + P(t - 1)) + x(\n",
              "\n",
              "      \n",
              "      \n",
              "t - 1)"
            ],
            "image/png": "[encoded data removed]",
            "text/latex": "$\\displaystyle x{\\left(t - 1 \\right)} + \\left(B^{T} Q{\\left(t - 1 \\right)} B\\right)^{-1} B^{T} \\left(P{\\left(t - 1 \\right)} + Q{\\left(t - 1 \\right)} z{\\left(t - 1 \\right)} + Q{\\left(t - 1 \\right)} A y{\\left(t - 2 \\right)}\\right)$"
          },
          "metadata": {},
          "execution_count": 48
        }
      ]
    },
    {
      "cell_type": "markdown",
      "source": [
        "EQ18tmp6 == 0 と置いて、これが EQ19D と同じことを示したい。"
      ],
      "metadata": {
        "id": "BWWRwatk-hWH"
      }
    },
    {
      "cell_type": "code",
      "source": [
        "EQ19c = EQ19D.subs(t, t - 1)\n",
        "(EQ19c.lhs - EQ19c.rhs - EQ18tmp6).expand().doit()"
      ],
      "metadata": {
        "colab": {
          "base_uri": "https://localhost:8080/",
          "height": 37
        },
        "id": "jkIhAfFA5Hq3",
        "outputId": "3d6a84e4-de9a-4fdc-862a-0469f7d6fdc3"
      },
      "execution_count": 49,
      "outputs": [
        {
          "output_type": "execute_result",
          "data": {
            "text/plain": [
              "𝟘"
            ],
            "image/png": "[encoded data removed]",
            "text/latex": "$\\displaystyle \\mathbb{0}$"
          },
          "metadata": {},
          "execution_count": 49
        }
      ]
    },
    {
      "cell_type": "markdown",
      "source": [
        "E19c と EQ18tmp6 は同じことであることが示せた。これを最適値を求めるため EQ18tmp に代入して整理していく。"
      ],
      "metadata": {
        "id": "Uo-gL8685ZDO"
      }
    },
    {
      "cell_type": "code",
      "source": [
        "EQ20tmp = EQ18tmp.subs(EQ19c.lhs, EQ19c.rhs)\n",
        "EQ20tmp"
      ],
      "metadata": {
        "colab": {
          "base_uri": "https://localhost:8080/",
          "height": 129
        },
        "id": "HQzrLH9J5doH",
        "outputId": "110ae91c-b6aa-47fb-ac37-8d75b9bea76d"
      },
      "execution_count": 50,
      "outputs": [
        {
          "output_type": "execute_result",
          "data": {
            "text/plain": [
              "                                                                              \n",
              "            ⎛               ⎛                -1                               \n",
              "          T ⎜               ⎜ ⎛ T           ⎞    T                            \n",
              "(P(t - 1)) ⋅⎝A⋅y(t - 2) + B⋅⎝-⎝B ⋅Q(t - 1)⋅B⎠  ⋅B ⋅(Q(t - 1)⋅(A⋅y(t - 2) + z(t\n",
              "\n",
              "                                                                              \n",
              "                  ⎞           ⎞       ⎛               ⎛                -1     \n",
              "                  ⎟           ⎟       ⎜               ⎜ ⎛ T           ⎞    T  \n",
              " - 1)) + P(t - 1))⎠ + z(t - 1)⎠ + 1/2⋅⎝A⋅y(t - 2) + B⋅⎝-⎝B ⋅Q(t - 1)⋅B⎠  ⋅B ⋅(\n",
              "\n",
              "                                                         T                    \n",
              "                                            ⎞           ⎞           ⎛         \n",
              "                                            ⎟           ⎟           ⎜         \n",
              "Q(t - 1)⋅(A⋅y(t - 2) + z(t - 1)) + P(t - 1))⎠ + z(t - 1)⎠ ⋅Q(t - 1)⋅⎝A⋅y(t - 2\n",
              "\n",
              "                                                                              \n",
              "      ⎛                -1                                                 ⎞   \n",
              "      ⎜ ⎛ T           ⎞    T                                              ⎟   \n",
              ") + B⋅⎝-⎝B ⋅Q(t - 1)⋅B⎠  ⋅B ⋅(Q(t - 1)⋅(A⋅y(t - 2) + z(t - 1)) + P(t - 1))⎠ + \n",
              "\n",
              "                    \n",
              "        ⎞           \n",
              "        ⎟           \n",
              "z(t - 1)⎠ + g(t - 1)"
            ],
            "image/png": "[encoded data removed]",
            "text/latex": "$\\displaystyle g{\\left(t - 1 \\right)} + \\left(\\frac{1}{2}\\right) \\left(z{\\left(t - 1 \\right)} + A y{\\left(t - 2 \\right)} + B \\left(- \\left(B^{T} Q{\\left(t - 1 \\right)} B\\right)^{-1} B^{T} \\left(P{\\left(t - 1 \\right)} + Q{\\left(t - 1 \\right)} \\left(z{\\left(t - 1 \\right)} + A y{\\left(t - 2 \\right)}\\right)\\right)\\right)\\right)^{T} Q{\\left(t - 1 \\right)} \\left(z{\\left(t - 1 \\right)} + A y{\\left(t - 2 \\right)} + B \\left(- \\left(B^{T} Q{\\left(t - 1 \\right)} B\\right)^{-1} B^{T} \\left(P{\\left(t - 1 \\right)} + Q{\\left(t - 1 \\right)} \\left(z{\\left(t - 1 \\right)} + A y{\\left(t - 2 \\right)}\\right)\\right)\\right)\\right) + \\left(P{\\left(t - 1 \\right)}\\right)^{T} \\left(z{\\left(t - 1 \\right)} + A y{\\left(t - 2 \\right)} + B \\left(- \\left(B^{T} Q{\\left(t - 1 \\right)} B\\right)^{-1} B^{T} \\left(P{\\left(t - 1 \\right)} + Q{\\left(t - 1 \\right)} \\left(z{\\left(t - 1 \\right)} + A y{\\left(t - 2 \\right)}\\right)\\right)\\right)\\right)$"
          },
          "metadata": {},
          "execution_count": 50
        }
      ]
    },
    {
      "cell_type": "code",
      "source": [
        "EQQtTtmp = EQQtT.subs(t, t - 1)\n",
        "EQ20tmp2 = mat_trivial_divide(EQ20tmp.expand().subs(EQQtTtmp.lhs, EQQtTtmp.rhs)).doit()\n",
        "EQ20tmp2"
      ],
      "metadata": {
        "colab": {
          "base_uri": "https://localhost:8080/",
          "height": 286
        },
        "id": "PbNsdaqE5gxA",
        "outputId": "46df7844-8633-4140-f02f-41cecdd9e021"
      },
      "execution_count": 51,
      "outputs": [
        {
          "output_type": "execute_result",
          "data": {
            "text/plain": [
              "                                                                              \n",
              "          T                      T                            T               \n",
              "(P(t - 1)) ⋅z(t - 1) + (P(t - 1)) ⋅A⋅y(t - 2) + 1/2⋅(z(t - 1)) ⋅Q(t - 1)⋅z(t -\n",
              "\n",
              "                                                                              \n",
              "                    T  T                                   T                  \n",
              " 1) + 1/2⋅(y(t - 2)) ⋅A ⋅Q(t - 1)⋅z(t - 1) + 1/2⋅(z(t - 1)) ⋅Q(t - 1)⋅A⋅y(t - \n",
              "\n",
              "                                     -1                                       \n",
              "                  T   ⎛ T           ⎞    T                          T  T      \n",
              "2) -1/2⋅(P(t - 1)) ⋅B⋅⎝B ⋅Q(t - 1)⋅B⎠  ⋅B ⋅P(t - 1) + 1/2⋅(y(t - 2)) ⋅A ⋅Q(t -\n",
              "\n",
              "                                             -1                               \n",
              "                          T   ⎛ T           ⎞    T                            \n",
              " 1)⋅A⋅y(t - 2) -(P(t - 1)) ⋅B⋅⎝B ⋅Q(t - 1)⋅B⎠  ⋅B ⋅Q(t - 1)⋅z(t - 1) -(P(t - 1\n",
              "\n",
              "                     -1                                                       \n",
              "  T   ⎛ T           ⎞    T                                    T            ⎛ T\n",
              ")) ⋅B⋅⎝B ⋅Q(t - 1)⋅B⎠  ⋅B ⋅Q(t - 1)⋅A⋅y(t - 2) -1/2⋅(z(t - 1)) ⋅Q(t - 1)⋅B⋅⎝B \n",
              "\n",
              "            -1                                                                \n",
              "           ⎞    T                                  T  T            ⎛ T        \n",
              "⋅Q(t - 1)⋅B⎠  ⋅B ⋅Q(t - 1)⋅z(t - 1) -1/2⋅(y(t - 2)) ⋅A ⋅Q(t - 1)⋅B⋅⎝B ⋅Q(t - 1\n",
              "\n",
              "    -1                                                                 -1     \n",
              "   ⎞    T                                  T            ⎛ T           ⎞    T  \n",
              ")⋅B⎠  ⋅B ⋅Q(t - 1)⋅z(t - 1) -1/2⋅(z(t - 1)) ⋅Q(t - 1)⋅B⋅⎝B ⋅Q(t - 1)⋅B⎠  ⋅B ⋅Q\n",
              "\n",
              "                                                                 -1           \n",
              "                                  T  T            ⎛ T           ⎞    T        \n",
              "(t - 1)⋅A⋅y(t - 2) -1/2⋅(y(t - 2)) ⋅A ⋅Q(t - 1)⋅B⋅⎝B ⋅Q(t - 1)⋅B⎠  ⋅B ⋅Q(t - 1\n",
              "\n",
              "                       \n",
              "                       \n",
              ")⋅A⋅y(t - 2) + g(t - 1)"
            ],
            "image/png": "[encoded data removed]",
            "text/latex": "$\\displaystyle g{\\left(t - 1 \\right)} + \\left(P{\\left(t - 1 \\right)}\\right)^{T} z{\\left(t - 1 \\right)} + \\left(P{\\left(t - 1 \\right)}\\right)^{T} A y{\\left(t - 2 \\right)} - \\left(\\frac{1}{2}\\right) \\left(P{\\left(t - 1 \\right)}\\right)^{T} B \\left(B^{T} Q{\\left(t - 1 \\right)} B\\right)^{-1} B^{T} P{\\left(t - 1 \\right)} - \\left(P{\\left(t - 1 \\right)}\\right)^{T} B \\left(B^{T} Q{\\left(t - 1 \\right)} B\\right)^{-1} B^{T} Q{\\left(t - 1 \\right)} z{\\left(t - 1 \\right)} - \\left(P{\\left(t - 1 \\right)}\\right)^{T} B \\left(B^{T} Q{\\left(t - 1 \\right)} B\\right)^{-1} B^{T} Q{\\left(t - 1 \\right)} A y{\\left(t - 2 \\right)} + \\left(\\frac{1}{2}\\right) \\left(y{\\left(t - 2 \\right)}\\right)^{T} A^{T} Q{\\left(t - 1 \\right)} z{\\left(t - 1 \\right)} + \\left(\\frac{1}{2}\\right) \\left(y{\\left(t - 2 \\right)}\\right)^{T} A^{T} Q{\\left(t - 1 \\right)} A y{\\left(t - 2 \\right)} - \\left(\\frac{1}{2}\\right) \\left(y{\\left(t - 2 \\right)}\\right)^{T} A^{T} Q{\\left(t - 1 \\right)} B \\left(B^{T} Q{\\left(t - 1 \\right)} B\\right)^{-1} B^{T} Q{\\left(t - 1 \\right)} z{\\left(t - 1 \\right)} - \\left(\\frac{1}{2}\\right) \\left(y{\\left(t - 2 \\right)}\\right)^{T} A^{T} Q{\\left(t - 1 \\right)} B \\left(B^{T} Q{\\left(t - 1 \\right)} B\\right)^{-1} B^{T} Q{\\left(t - 1 \\right)} A y{\\left(t - 2 \\right)} + \\left(\\frac{1}{2}\\right) \\left(z{\\left(t - 1 \\right)}\\right)^{T} Q{\\left(t - 1 \\right)} z{\\left(t - 1 \\right)} + \\left(\\frac{1}{2}\\right) \\left(z{\\left(t - 1 \\right)}\\right)^{T} Q{\\left(t - 1 \\right)} A y{\\left(t - 2 \\right)} - \\left(\\frac{1}{2}\\right) \\left(z{\\left(t - 1 \\right)}\\right)^{T} Q{\\left(t - 1 \\right)} B \\left(B^{T} Q{\\left(t - 1 \\right)} B\\right)^{-1} B^{T} Q{\\left(t - 1 \\right)} z{\\left(t - 1 \\right)} - \\left(\\frac{1}{2}\\right) \\left(z{\\left(t - 1 \\right)}\\right)^{T} Q{\\left(t - 1 \\right)} B \\left(B^{T} Q{\\left(t - 1 \\right)} B\\right)^{-1} B^{T} Q{\\left(t - 1 \\right)} A y{\\left(t - 2 \\right)}$"
          },
          "metadata": {},
          "execution_count": 51
        }
      ]
    },
    {
      "cell_type": "markdown",
      "source": [
        "これが EQ20D と同じことを示したい。"
      ],
      "metadata": {
        "id": "mpNjuwwo-tFm"
      }
    },
    {
      "cell_type": "code",
      "source": [
        "EQ21tmp = EQ21D.subs(t, t - 1)\n",
        "EQ22tmp = EQ22D.subs(t, t - 1)\n",
        "EQ20tmp = EQ20D.subs(t, t - 1)\n",
        "\n",
        "EQ20tmp3 = EQ20tmp.rhs.subs({EQ21tmp.lhs: EQ21tmp.rhs,\n",
        "                             EQ22tmp.lhs: EQ22tmp.rhs})\\\n",
        "                      .expand().doit()\n",
        "EQ20tmp3"
      ],
      "metadata": {
        "colab": {
          "base_uri": "https://localhost:8080/",
          "height": 286
        },
        "id": "5yezUb-D5ltZ",
        "outputId": "4c10d0f4-8132-49f5-9e07-b66ab17da41d"
      },
      "execution_count": 52,
      "outputs": [
        {
          "output_type": "execute_result",
          "data": {
            "text/plain": [
              "                                                                              \n",
              "          T                      T                            T               \n",
              "(P(t - 1)) ⋅z(t - 1) + (P(t - 1)) ⋅A⋅y(t - 2) + 1/2⋅(z(t - 1)) ⋅Q(t - 1)⋅z(t -\n",
              "\n",
              "                                                                              \n",
              "                    T  T                                   T                  \n",
              " 1) + 1/2⋅(y(t - 2)) ⋅A ⋅Q(t - 1)⋅z(t - 1) + 1/2⋅(z(t - 1)) ⋅Q(t - 1)⋅A⋅y(t - \n",
              "\n",
              "                                     -1                                       \n",
              "                  T   ⎛ T           ⎞    T                          T  T      \n",
              "2) -1/2⋅(P(t - 1)) ⋅B⋅⎝B ⋅Q(t - 1)⋅B⎠  ⋅B ⋅P(t - 1) + 1/2⋅(y(t - 2)) ⋅A ⋅Q(t -\n",
              "\n",
              "                                             -1                               \n",
              "                          T   ⎛ T           ⎞    T                            \n",
              " 1)⋅A⋅y(t - 2) -(P(t - 1)) ⋅B⋅⎝B ⋅Q(t - 1)⋅B⎠  ⋅B ⋅Q(t - 1)⋅z(t - 1) -(P(t - 1\n",
              "\n",
              "                     -1                                                       \n",
              "  T   ⎛ T           ⎞    T                                    T            ⎛ T\n",
              ")) ⋅B⋅⎝B ⋅Q(t - 1)⋅B⎠  ⋅B ⋅Q(t - 1)⋅A⋅y(t - 2) -1/2⋅(z(t - 1)) ⋅Q(t - 1)⋅B⋅⎝B \n",
              "\n",
              "            -1                                                                \n",
              "           ⎞    T                                  T  T            ⎛ T        \n",
              "⋅Q(t - 1)⋅B⎠  ⋅B ⋅Q(t - 1)⋅z(t - 1) -1/2⋅(y(t - 2)) ⋅A ⋅Q(t - 1)⋅B⋅⎝B ⋅Q(t - 1\n",
              "\n",
              "    -1                                                                 -1     \n",
              "   ⎞    T                                  T            ⎛ T           ⎞    T  \n",
              ")⋅B⎠  ⋅B ⋅Q(t - 1)⋅z(t - 1) -1/2⋅(z(t - 1)) ⋅Q(t - 1)⋅B⋅⎝B ⋅Q(t - 1)⋅B⎠  ⋅B ⋅Q\n",
              "\n",
              "                                                                 -1           \n",
              "                                  T  T            ⎛ T           ⎞    T        \n",
              "(t - 1)⋅A⋅y(t - 2) -1/2⋅(y(t - 2)) ⋅A ⋅Q(t - 1)⋅B⋅⎝B ⋅Q(t - 1)⋅B⎠  ⋅B ⋅Q(t - 1\n",
              "\n",
              "                       \n",
              "                       \n",
              ")⋅A⋅y(t - 2) + g(t - 1)"
            ],
            "image/png": "[encoded data removed]",
            "text/latex": "$\\displaystyle g{\\left(t - 1 \\right)} + \\left(P{\\left(t - 1 \\right)}\\right)^{T} z{\\left(t - 1 \\right)} + \\left(P{\\left(t - 1 \\right)}\\right)^{T} A y{\\left(t - 2 \\right)} - \\left(\\frac{1}{2}\\right) \\left(P{\\left(t - 1 \\right)}\\right)^{T} B \\left(B^{T} Q{\\left(t - 1 \\right)} B\\right)^{-1} B^{T} P{\\left(t - 1 \\right)} - \\left(P{\\left(t - 1 \\right)}\\right)^{T} B \\left(B^{T} Q{\\left(t - 1 \\right)} B\\right)^{-1} B^{T} Q{\\left(t - 1 \\right)} z{\\left(t - 1 \\right)} - \\left(P{\\left(t - 1 \\right)}\\right)^{T} B \\left(B^{T} Q{\\left(t - 1 \\right)} B\\right)^{-1} B^{T} Q{\\left(t - 1 \\right)} A y{\\left(t - 2 \\right)} + \\left(\\frac{1}{2}\\right) \\left(y{\\left(t - 2 \\right)}\\right)^{T} A^{T} Q{\\left(t - 1 \\right)} z{\\left(t - 1 \\right)} + \\left(\\frac{1}{2}\\right) \\left(y{\\left(t - 2 \\right)}\\right)^{T} A^{T} Q{\\left(t - 1 \\right)} A y{\\left(t - 2 \\right)} - \\left(\\frac{1}{2}\\right) \\left(y{\\left(t - 2 \\right)}\\right)^{T} A^{T} Q{\\left(t - 1 \\right)} B \\left(B^{T} Q{\\left(t - 1 \\right)} B\\right)^{-1} B^{T} Q{\\left(t - 1 \\right)} z{\\left(t - 1 \\right)} - \\left(\\frac{1}{2}\\right) \\left(y{\\left(t - 2 \\right)}\\right)^{T} A^{T} Q{\\left(t - 1 \\right)} B \\left(B^{T} Q{\\left(t - 1 \\right)} B\\right)^{-1} B^{T} Q{\\left(t - 1 \\right)} A y{\\left(t - 2 \\right)} + \\left(\\frac{1}{2}\\right) \\left(z{\\left(t - 1 \\right)}\\right)^{T} Q{\\left(t - 1 \\right)} z{\\left(t - 1 \\right)} + \\left(\\frac{1}{2}\\right) \\left(z{\\left(t - 1 \\right)}\\right)^{T} Q{\\left(t - 1 \\right)} A y{\\left(t - 2 \\right)} - \\left(\\frac{1}{2}\\right) \\left(z{\\left(t - 1 \\right)}\\right)^{T} Q{\\left(t - 1 \\right)} B \\left(B^{T} Q{\\left(t - 1 \\right)} B\\right)^{-1} B^{T} Q{\\left(t - 1 \\right)} z{\\left(t - 1 \\right)} - \\left(\\frac{1}{2}\\right) \\left(z{\\left(t - 1 \\right)}\\right)^{T} Q{\\left(t - 1 \\right)} B \\left(B^{T} Q{\\left(t - 1 \\right)} B\\right)^{-1} B^{T} Q{\\left(t - 1 \\right)} A y{\\left(t - 2 \\right)}$"
          },
          "metadata": {},
          "execution_count": 52
        }
      ]
    },
    {
      "cell_type": "code",
      "source": [
        "(EQ20tmp2 - EQ20tmp3).expand().doit()"
      ],
      "metadata": {
        "colab": {
          "base_uri": "https://localhost:8080/",
          "height": 37
        },
        "id": "4V7g2YO15vpo",
        "outputId": "933fc144-2cfc-401e-c468-a63415750de3"
      },
      "execution_count": 53,
      "outputs": [
        {
          "output_type": "execute_result",
          "data": {
            "text/plain": [
              "𝟘"
            ],
            "image/png": "[encoded data removed]",
            "text/latex": "$\\displaystyle \\mathbb{0}$"
          },
          "metadata": {},
          "execution_count": 53
        }
      ]
    },
    {
      "cell_type": "markdown",
      "source": [
        "これで t := t - 1 において、EQ19D EQ20D が成り立つことが示せたことになる。これで帰納法でこの節の導出が正しかったことが証明された。…と思う。\n",
        "\n",
        "なお、終わってから気づいたのだが、t := T の時点で帰納法を満たしており、t := T - 1 については言う必要がなかったのかもしれない。ただ、本では示しているため、言った意味が全くないとはならないとは思う。"
      ],
      "metadata": {
        "id": "5OJkwQZ459Xi"
      }
    }
  ]
}